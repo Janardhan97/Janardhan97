{
  "nbformat": 4,
  "nbformat_minor": 0,
  "metadata": {
    "colab": {
      "name": "E-commerceRMF method----.ipynb",
      "provenance": [],
      "collapsed_sections": [],
      "mount_file_id": "1QT_x-XElGuXNM-cfKh8kdbHHQ_ZbNiVu",
      "authorship_tag": "ABX9TyN1qqVSLO95d6rIaz08GKQp",
      "include_colab_link": true
    },
    "kernelspec": {
      "name": "python3",
      "display_name": "Python 3"
    },
    "language_info": {
      "name": "python"
    },
    "accelerator": "GPU"
  },
  "cells": [
    {
      "cell_type": "markdown",
      "metadata": {
        "id": "view-in-github",
        "colab_type": "text"
      },
      "source": [
        "<a href=\"https://colab.research.google.com/github/Janardhan97/Janardhan97/blob/main/E_commerceRMF_method_.ipynb\" target=\"_parent\"><img src=\"https://colab.research.google.com/assets/colab-badge.svg\" alt=\"Open In Colab\"/></a>"
      ]
    },
    {
      "cell_type": "code",
      "execution_count": 2,
      "metadata": {
        "id": "HpFwICbUz_nh"
      },
      "outputs": [],
      "source": [
        "import pandas as pd\n",
        "import numpy as np\n",
        "import matplotlib.pyplot as plt\n",
        "import seaborn as sns\n",
        "import os\n",
        "%matplotlib inline"
      ]
    },
    {
      "cell_type": "code",
      "source": [
        "#RMF Analysis"
      ],
      "metadata": {
        "id": "M6KAyIlyXvrC"
      },
      "execution_count": 3,
      "outputs": []
    },
    {
      "cell_type": "code",
      "source": [
        ""
      ],
      "metadata": {
        "id": "nXr-R1DtXvuB"
      },
      "execution_count": 3,
      "outputs": []
    },
    {
      "cell_type": "code",
      "source": [
        "from google.colab import files\n",
        "import io\n",
        "\n",
        "data= files.upload()"
      ],
      "metadata": {
        "colab": {
          "resources": {
            "http://localhost:8080/nbextensions/google.colab/files.js": {
              "data": "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",
              "ok": true,
              "headers": [
                [
                  "content-type",
                  "application/javascript"
                ]
              ],
              "status": 200,
              "status_text": ""
            }
          },
          "base_uri": "https://localhost:8080/",
          "height": 74
        },
        "id": "wjIKhK282bok",
        "outputId": "803d4f69-03d8-470f-8501-02e716bfa667"
      },
      "execution_count": 4,
      "outputs": [
        {
          "output_type": "display_data",
          "data": {
            "text/plain": [
              "<IPython.core.display.HTML object>"
            ],
            "text/html": [
              "\n",
              "     <input type=\"file\" id=\"files-e2b1c9e9-6bbd-4d09-aefd-10e9f0dafed7\" name=\"files[]\" multiple disabled\n",
              "        style=\"border:none\" />\n",
              "     <output id=\"result-e2b1c9e9-6bbd-4d09-aefd-10e9f0dafed7\">\n",
              "      Upload widget is only available when the cell has been executed in the\n",
              "      current browser session. Please rerun this cell to enable.\n",
              "      </output>\n",
              "      <script src=\"/nbextensions/google.colab/files.js\"></script> "
            ]
          },
          "metadata": {}
        },
        {
          "output_type": "stream",
          "name": "stdout",
          "text": [
            "Saving E-com_Data.xlsx to E-com_Data.xlsx\n"
          ]
        }
      ]
    },
    {
      "cell_type": "code",
      "source": [
        "df = pd.read_excel('E-com_Data.xlsx')"
      ],
      "metadata": {
        "id": "8dLYtJwQ2vj2"
      },
      "execution_count": 5,
      "outputs": []
    },
    {
      "cell_type": "code",
      "source": [
        "df"
      ],
      "metadata": {
        "colab": {
          "base_uri": "https://localhost:8080/",
          "height": 485
        },
        "id": "32Wvvg8J6L3T",
        "outputId": "74357e2c-a19b-4823-e795-68a235502a35"
      },
      "execution_count": 6,
      "outputs": [
        {
          "output_type": "execute_result",
          "data": {
            "text/plain": [
              "        CustomerID Item Code  InvoieNo Date of purchase  Quantity      Time  \\\n",
              "0           4355.0     15734    398177       2017-10-29         6  15:36:00   \n",
              "1           4352.0     14616    394422       2017-10-05         2  14:53:00   \n",
              "2           4352.0     14614    394422       2017-10-12         2  14:53:00   \n",
              "3           4352.0    85014B    388633       2017-08-22         3  14:47:00   \n",
              "4           4352.0     15364    394422       2017-10-10         2  14:53:00   \n",
              "...            ...       ...       ...              ...       ...       ...   \n",
              "537974         NaN    85194L    372313       2017-03-23         6  09:27:00   \n",
              "537975         NaN     14693    367605       2017-02-06         2  14:25:00   \n",
              "537976         NaN     14693    368246       2017-02-06         3  10:40:00   \n",
              "537977         NaN    85194L    366891       2017-01-29        15  17:05:00   \n",
              "537978         NaN     14693    391243       2017-09-17        20  12:42:00   \n",
              "\n",
              "        price per Unit   Price Shipping Location  Cancelled_status  \\\n",
              "0                321.0  1926.0        Location 1               NaN   \n",
              "1                870.0  1740.0        Location 1               NaN   \n",
              "2                933.0  1866.0        Location 1               NaN   \n",
              "3                623.0  1869.0        Location 1               NaN   \n",
              "4                944.0  1888.0        Location 1               NaN   \n",
              "...                ...     ...               ...               ...   \n",
              "537974           198.0  1188.0        Location 8               NaN   \n",
              "537975           761.0  1522.0        Location 8               NaN   \n",
              "537976           761.0  2283.0        Location 8               NaN   \n",
              "537977           198.0  2970.0        Location 8               NaN   \n",
              "537978           417.0  8340.0        Location 8               NaN   \n",
              "\n",
              "       Reason of return  Sold as set  \n",
              "0                   NaN          NaN  \n",
              "1                   NaN          NaN  \n",
              "2                   NaN          NaN  \n",
              "3                   NaN          NaN  \n",
              "4                   NaN          NaN  \n",
              "...                 ...          ...  \n",
              "537974              NaN          NaN  \n",
              "537975              NaN          NaN  \n",
              "537976              NaN          NaN  \n",
              "537977              NaN          NaN  \n",
              "537978              NaN          NaN  \n",
              "\n",
              "[537979 rows x 12 columns]"
            ],
            "text/html": [
              "\n",
              "  <div id=\"df-b90ecc01-47cb-448e-8391-1bc31eb4d6a2\">\n",
              "    <div class=\"colab-df-container\">\n",
              "      <div>\n",
              "<style scoped>\n",
              "    .dataframe tbody tr th:only-of-type {\n",
              "        vertical-align: middle;\n",
              "    }\n",
              "\n",
              "    .dataframe tbody tr th {\n",
              "        vertical-align: top;\n",
              "    }\n",
              "\n",
              "    .dataframe thead th {\n",
              "        text-align: right;\n",
              "    }\n",
              "</style>\n",
              "<table border=\"1\" class=\"dataframe\">\n",
              "  <thead>\n",
              "    <tr style=\"text-align: right;\">\n",
              "      <th></th>\n",
              "      <th>CustomerID</th>\n",
              "      <th>Item Code</th>\n",
              "      <th>InvoieNo</th>\n",
              "      <th>Date of purchase</th>\n",
              "      <th>Quantity</th>\n",
              "      <th>Time</th>\n",
              "      <th>price per Unit</th>\n",
              "      <th>Price</th>\n",
              "      <th>Shipping Location</th>\n",
              "      <th>Cancelled_status</th>\n",
              "      <th>Reason of return</th>\n",
              "      <th>Sold as set</th>\n",
              "    </tr>\n",
              "  </thead>\n",
              "  <tbody>\n",
              "    <tr>\n",
              "      <th>0</th>\n",
              "      <td>4355.0</td>\n",
              "      <td>15734</td>\n",
              "      <td>398177</td>\n",
              "      <td>2017-10-29</td>\n",
              "      <td>6</td>\n",
              "      <td>15:36:00</td>\n",
              "      <td>321.0</td>\n",
              "      <td>1926.0</td>\n",
              "      <td>Location 1</td>\n",
              "      <td>NaN</td>\n",
              "      <td>NaN</td>\n",
              "      <td>NaN</td>\n",
              "    </tr>\n",
              "    <tr>\n",
              "      <th>1</th>\n",
              "      <td>4352.0</td>\n",
              "      <td>14616</td>\n",
              "      <td>394422</td>\n",
              "      <td>2017-10-05</td>\n",
              "      <td>2</td>\n",
              "      <td>14:53:00</td>\n",
              "      <td>870.0</td>\n",
              "      <td>1740.0</td>\n",
              "      <td>Location 1</td>\n",
              "      <td>NaN</td>\n",
              "      <td>NaN</td>\n",
              "      <td>NaN</td>\n",
              "    </tr>\n",
              "    <tr>\n",
              "      <th>2</th>\n",
              "      <td>4352.0</td>\n",
              "      <td>14614</td>\n",
              "      <td>394422</td>\n",
              "      <td>2017-10-12</td>\n",
              "      <td>2</td>\n",
              "      <td>14:53:00</td>\n",
              "      <td>933.0</td>\n",
              "      <td>1866.0</td>\n",
              "      <td>Location 1</td>\n",
              "      <td>NaN</td>\n",
              "      <td>NaN</td>\n",
              "      <td>NaN</td>\n",
              "    </tr>\n",
              "    <tr>\n",
              "      <th>3</th>\n",
              "      <td>4352.0</td>\n",
              "      <td>85014B</td>\n",
              "      <td>388633</td>\n",
              "      <td>2017-08-22</td>\n",
              "      <td>3</td>\n",
              "      <td>14:47:00</td>\n",
              "      <td>623.0</td>\n",
              "      <td>1869.0</td>\n",
              "      <td>Location 1</td>\n",
              "      <td>NaN</td>\n",
              "      <td>NaN</td>\n",
              "      <td>NaN</td>\n",
              "    </tr>\n",
              "    <tr>\n",
              "      <th>4</th>\n",
              "      <td>4352.0</td>\n",
              "      <td>15364</td>\n",
              "      <td>394422</td>\n",
              "      <td>2017-10-10</td>\n",
              "      <td>2</td>\n",
              "      <td>14:53:00</td>\n",
              "      <td>944.0</td>\n",
              "      <td>1888.0</td>\n",
              "      <td>Location 1</td>\n",
              "      <td>NaN</td>\n",
              "      <td>NaN</td>\n",
              "      <td>NaN</td>\n",
              "    </tr>\n",
              "    <tr>\n",
              "      <th>...</th>\n",
              "      <td>...</td>\n",
              "      <td>...</td>\n",
              "      <td>...</td>\n",
              "      <td>...</td>\n",
              "      <td>...</td>\n",
              "      <td>...</td>\n",
              "      <td>...</td>\n",
              "      <td>...</td>\n",
              "      <td>...</td>\n",
              "      <td>...</td>\n",
              "      <td>...</td>\n",
              "      <td>...</td>\n",
              "    </tr>\n",
              "    <tr>\n",
              "      <th>537974</th>\n",
              "      <td>NaN</td>\n",
              "      <td>85194L</td>\n",
              "      <td>372313</td>\n",
              "      <td>2017-03-23</td>\n",
              "      <td>6</td>\n",
              "      <td>09:27:00</td>\n",
              "      <td>198.0</td>\n",
              "      <td>1188.0</td>\n",
              "      <td>Location 8</td>\n",
              "      <td>NaN</td>\n",
              "      <td>NaN</td>\n",
              "      <td>NaN</td>\n",
              "    </tr>\n",
              "    <tr>\n",
              "      <th>537975</th>\n",
              "      <td>NaN</td>\n",
              "      <td>14693</td>\n",
              "      <td>367605</td>\n",
              "      <td>2017-02-06</td>\n",
              "      <td>2</td>\n",
              "      <td>14:25:00</td>\n",
              "      <td>761.0</td>\n",
              "      <td>1522.0</td>\n",
              "      <td>Location 8</td>\n",
              "      <td>NaN</td>\n",
              "      <td>NaN</td>\n",
              "      <td>NaN</td>\n",
              "    </tr>\n",
              "    <tr>\n",
              "      <th>537976</th>\n",
              "      <td>NaN</td>\n",
              "      <td>14693</td>\n",
              "      <td>368246</td>\n",
              "      <td>2017-02-06</td>\n",
              "      <td>3</td>\n",
              "      <td>10:40:00</td>\n",
              "      <td>761.0</td>\n",
              "      <td>2283.0</td>\n",
              "      <td>Location 8</td>\n",
              "      <td>NaN</td>\n",
              "      <td>NaN</td>\n",
              "      <td>NaN</td>\n",
              "    </tr>\n",
              "    <tr>\n",
              "      <th>537977</th>\n",
              "      <td>NaN</td>\n",
              "      <td>85194L</td>\n",
              "      <td>366891</td>\n",
              "      <td>2017-01-29</td>\n",
              "      <td>15</td>\n",
              "      <td>17:05:00</td>\n",
              "      <td>198.0</td>\n",
              "      <td>2970.0</td>\n",
              "      <td>Location 8</td>\n",
              "      <td>NaN</td>\n",
              "      <td>NaN</td>\n",
              "      <td>NaN</td>\n",
              "    </tr>\n",
              "    <tr>\n",
              "      <th>537978</th>\n",
              "      <td>NaN</td>\n",
              "      <td>14693</td>\n",
              "      <td>391243</td>\n",
              "      <td>2017-09-17</td>\n",
              "      <td>20</td>\n",
              "      <td>12:42:00</td>\n",
              "      <td>417.0</td>\n",
              "      <td>8340.0</td>\n",
              "      <td>Location 8</td>\n",
              "      <td>NaN</td>\n",
              "      <td>NaN</td>\n",
              "      <td>NaN</td>\n",
              "    </tr>\n",
              "  </tbody>\n",
              "</table>\n",
              "<p>537979 rows × 12 columns</p>\n",
              "</div>\n",
              "      <button class=\"colab-df-convert\" onclick=\"convertToInteractive('df-b90ecc01-47cb-448e-8391-1bc31eb4d6a2')\"\n",
              "              title=\"Convert this dataframe to an interactive table.\"\n",
              "              style=\"display:none;\">\n",
              "        \n",
              "  <svg xmlns=\"http://www.w3.org/2000/svg\" height=\"24px\"viewBox=\"0 0 24 24\"\n",
              "       width=\"24px\">\n",
              "    <path d=\"M0 0h24v24H0V0z\" fill=\"none\"/>\n",
              "    <path d=\"M18.56 5.44l.94 2.06.94-2.06 2.06-.94-2.06-.94-.94-2.06-.94 2.06-2.06.94zm-11 1L8.5 8.5l.94-2.06 2.06-.94-2.06-.94L8.5 2.5l-.94 2.06-2.06.94zm10 10l.94 2.06.94-2.06 2.06-.94-2.06-.94-.94-2.06-.94 2.06-2.06.94z\"/><path d=\"M17.41 7.96l-1.37-1.37c-.4-.4-.92-.59-1.43-.59-.52 0-1.04.2-1.43.59L10.3 9.45l-7.72 7.72c-.78.78-.78 2.05 0 2.83L4 21.41c.39.39.9.59 1.41.59.51 0 1.02-.2 1.41-.59l7.78-7.78 2.81-2.81c.8-.78.8-2.07 0-2.86zM5.41 20L4 18.59l7.72-7.72 1.47 1.35L5.41 20z\"/>\n",
              "  </svg>\n",
              "      </button>\n",
              "      \n",
              "  <style>\n",
              "    .colab-df-container {\n",
              "      display:flex;\n",
              "      flex-wrap:wrap;\n",
              "      gap: 12px;\n",
              "    }\n",
              "\n",
              "    .colab-df-convert {\n",
              "      background-color: #E8F0FE;\n",
              "      border: none;\n",
              "      border-radius: 50%;\n",
              "      cursor: pointer;\n",
              "      display: none;\n",
              "      fill: #1967D2;\n",
              "      height: 32px;\n",
              "      padding: 0 0 0 0;\n",
              "      width: 32px;\n",
              "    }\n",
              "\n",
              "    .colab-df-convert:hover {\n",
              "      background-color: #E2EBFA;\n",
              "      box-shadow: 0px 1px 2px rgba(60, 64, 67, 0.3), 0px 1px 3px 1px rgba(60, 64, 67, 0.15);\n",
              "      fill: #174EA6;\n",
              "    }\n",
              "\n",
              "    [theme=dark] .colab-df-convert {\n",
              "      background-color: #3B4455;\n",
              "      fill: #D2E3FC;\n",
              "    }\n",
              "\n",
              "    [theme=dark] .colab-df-convert:hover {\n",
              "      background-color: #434B5C;\n",
              "      box-shadow: 0px 1px 3px 1px rgba(0, 0, 0, 0.15);\n",
              "      filter: drop-shadow(0px 1px 2px rgba(0, 0, 0, 0.3));\n",
              "      fill: #FFFFFF;\n",
              "    }\n",
              "  </style>\n",
              "\n",
              "      <script>\n",
              "        const buttonEl =\n",
              "          document.querySelector('#df-b90ecc01-47cb-448e-8391-1bc31eb4d6a2 button.colab-df-convert');\n",
              "        buttonEl.style.display =\n",
              "          google.colab.kernel.accessAllowed ? 'block' : 'none';\n",
              "\n",
              "        async function convertToInteractive(key) {\n",
              "          const element = document.querySelector('#df-b90ecc01-47cb-448e-8391-1bc31eb4d6a2');\n",
              "          const dataTable =\n",
              "            await google.colab.kernel.invokeFunction('convertToInteractive',\n",
              "                                                     [key], {});\n",
              "          if (!dataTable) return;\n",
              "\n",
              "          const docLinkHtml = 'Like what you see? Visit the ' +\n",
              "            '<a target=\"_blank\" href=https://colab.research.google.com/notebooks/data_table.ipynb>data table notebook</a>'\n",
              "            + ' to learn more about interactive tables.';\n",
              "          element.innerHTML = '';\n",
              "          dataTable['output_type'] = 'display_data';\n",
              "          await google.colab.output.renderOutput(dataTable, element);\n",
              "          const docLink = document.createElement('div');\n",
              "          docLink.innerHTML = docLinkHtml;\n",
              "          element.appendChild(docLink);\n",
              "        }\n",
              "      </script>\n",
              "    </div>\n",
              "  </div>\n",
              "  "
            ]
          },
          "metadata": {},
          "execution_count": 6
        }
      ]
    },
    {
      "cell_type": "code",
      "source": [
        "df.isna().sum()    # check missing data"
      ],
      "metadata": {
        "colab": {
          "base_uri": "https://localhost:8080/"
        },
        "id": "WNDmvkTTD5Pt",
        "outputId": "f479c708-71e4-424b-a638-f6ed74745267"
      },
      "execution_count": 7,
      "outputs": [
        {
          "output_type": "execute_result",
          "data": {
            "text/plain": [
              "CustomerID           133790\n",
              "Item Code                 0\n",
              "InvoieNo                  0\n",
              "Date of purchase          0\n",
              "Quantity                  0\n",
              "Time                      0\n",
              "price per Unit            0\n",
              "Price                     0\n",
              "Shipping Location         0\n",
              "Cancelled_status     529634\n",
              "Reason of return     537976\n",
              "Sold as set          537979\n",
              "dtype: int64"
            ]
          },
          "metadata": {},
          "execution_count": 7
        }
      ]
    },
    {
      "cell_type": "code",
      "source": [
        " df.describe()"
      ],
      "metadata": {
        "colab": {
          "base_uri": "https://localhost:8080/",
          "height": 300
        },
        "id": "FnX0crN2EFdU",
        "outputId": "26977f19-4628-4329-b6bc-a7f0c9ea99bc"
      },
      "execution_count": 8,
      "outputs": [
        {
          "output_type": "execute_result",
          "data": {
            "text/plain": [
              "          CustomerID       InvoieNo       Quantity  price per Unit  \\\n",
              "count  404189.000000  537979.000000  537979.000000   537979.000000   \n",
              "mean     2181.909035  385017.572063       9.343339      378.339062   \n",
              "std      1252.681881   13426.052649      27.623322      440.048823   \n",
              "min         2.000000  361429.000000   -2003.000000        1.000000   \n",
              "25%      1207.000000  372961.000000       1.000000      169.000000   \n",
              "50%      2078.000000  385706.000000       3.000000      261.000000   \n",
              "75%      3291.000000  396873.000000      10.000000      456.000000   \n",
              "max      4372.000000  406651.000000    3186.000000    64973.000000   \n",
              "\n",
              "               Price  Cancelled_status  Sold as set  \n",
              "count  537979.000000            8345.0          0.0  \n",
              "mean     2161.414593               1.0          NaN  \n",
              "std      4538.487177               0.0          NaN  \n",
              "min    -10152.000000               1.0          NaN  \n",
              "25%       451.000000               1.0          NaN  \n",
              "50%      1194.000000               1.0          NaN  \n",
              "75%      2232.000000               1.0          NaN  \n",
              "max     90400.000000               1.0          NaN  "
            ],
            "text/html": [
              "\n",
              "  <div id=\"df-90d0ac37-163d-49a4-a000-52cc4920bee6\">\n",
              "    <div class=\"colab-df-container\">\n",
              "      <div>\n",
              "<style scoped>\n",
              "    .dataframe tbody tr th:only-of-type {\n",
              "        vertical-align: middle;\n",
              "    }\n",
              "\n",
              "    .dataframe tbody tr th {\n",
              "        vertical-align: top;\n",
              "    }\n",
              "\n",
              "    .dataframe thead th {\n",
              "        text-align: right;\n",
              "    }\n",
              "</style>\n",
              "<table border=\"1\" class=\"dataframe\">\n",
              "  <thead>\n",
              "    <tr style=\"text-align: right;\">\n",
              "      <th></th>\n",
              "      <th>CustomerID</th>\n",
              "      <th>InvoieNo</th>\n",
              "      <th>Quantity</th>\n",
              "      <th>price per Unit</th>\n",
              "      <th>Price</th>\n",
              "      <th>Cancelled_status</th>\n",
              "      <th>Sold as set</th>\n",
              "    </tr>\n",
              "  </thead>\n",
              "  <tbody>\n",
              "    <tr>\n",
              "      <th>count</th>\n",
              "      <td>404189.000000</td>\n",
              "      <td>537979.000000</td>\n",
              "      <td>537979.000000</td>\n",
              "      <td>537979.000000</td>\n",
              "      <td>537979.000000</td>\n",
              "      <td>8345.0</td>\n",
              "      <td>0.0</td>\n",
              "    </tr>\n",
              "    <tr>\n",
              "      <th>mean</th>\n",
              "      <td>2181.909035</td>\n",
              "      <td>385017.572063</td>\n",
              "      <td>9.343339</td>\n",
              "      <td>378.339062</td>\n",
              "      <td>2161.414593</td>\n",
              "      <td>1.0</td>\n",
              "      <td>NaN</td>\n",
              "    </tr>\n",
              "    <tr>\n",
              "      <th>std</th>\n",
              "      <td>1252.681881</td>\n",
              "      <td>13426.052649</td>\n",
              "      <td>27.623322</td>\n",
              "      <td>440.048823</td>\n",
              "      <td>4538.487177</td>\n",
              "      <td>0.0</td>\n",
              "      <td>NaN</td>\n",
              "    </tr>\n",
              "    <tr>\n",
              "      <th>min</th>\n",
              "      <td>2.000000</td>\n",
              "      <td>361429.000000</td>\n",
              "      <td>-2003.000000</td>\n",
              "      <td>1.000000</td>\n",
              "      <td>-10152.000000</td>\n",
              "      <td>1.0</td>\n",
              "      <td>NaN</td>\n",
              "    </tr>\n",
              "    <tr>\n",
              "      <th>25%</th>\n",
              "      <td>1207.000000</td>\n",
              "      <td>372961.000000</td>\n",
              "      <td>1.000000</td>\n",
              "      <td>169.000000</td>\n",
              "      <td>451.000000</td>\n",
              "      <td>1.0</td>\n",
              "      <td>NaN</td>\n",
              "    </tr>\n",
              "    <tr>\n",
              "      <th>50%</th>\n",
              "      <td>2078.000000</td>\n",
              "      <td>385706.000000</td>\n",
              "      <td>3.000000</td>\n",
              "      <td>261.000000</td>\n",
              "      <td>1194.000000</td>\n",
              "      <td>1.0</td>\n",
              "      <td>NaN</td>\n",
              "    </tr>\n",
              "    <tr>\n",
              "      <th>75%</th>\n",
              "      <td>3291.000000</td>\n",
              "      <td>396873.000000</td>\n",
              "      <td>10.000000</td>\n",
              "      <td>456.000000</td>\n",
              "      <td>2232.000000</td>\n",
              "      <td>1.0</td>\n",
              "      <td>NaN</td>\n",
              "    </tr>\n",
              "    <tr>\n",
              "      <th>max</th>\n",
              "      <td>4372.000000</td>\n",
              "      <td>406651.000000</td>\n",
              "      <td>3186.000000</td>\n",
              "      <td>64973.000000</td>\n",
              "      <td>90400.000000</td>\n",
              "      <td>1.0</td>\n",
              "      <td>NaN</td>\n",
              "    </tr>\n",
              "  </tbody>\n",
              "</table>\n",
              "</div>\n",
              "      <button class=\"colab-df-convert\" onclick=\"convertToInteractive('df-90d0ac37-163d-49a4-a000-52cc4920bee6')\"\n",
              "              title=\"Convert this dataframe to an interactive table.\"\n",
              "              style=\"display:none;\">\n",
              "        \n",
              "  <svg xmlns=\"http://www.w3.org/2000/svg\" height=\"24px\"viewBox=\"0 0 24 24\"\n",
              "       width=\"24px\">\n",
              "    <path d=\"M0 0h24v24H0V0z\" fill=\"none\"/>\n",
              "    <path d=\"M18.56 5.44l.94 2.06.94-2.06 2.06-.94-2.06-.94-.94-2.06-.94 2.06-2.06.94zm-11 1L8.5 8.5l.94-2.06 2.06-.94-2.06-.94L8.5 2.5l-.94 2.06-2.06.94zm10 10l.94 2.06.94-2.06 2.06-.94-2.06-.94-.94-2.06-.94 2.06-2.06.94z\"/><path d=\"M17.41 7.96l-1.37-1.37c-.4-.4-.92-.59-1.43-.59-.52 0-1.04.2-1.43.59L10.3 9.45l-7.72 7.72c-.78.78-.78 2.05 0 2.83L4 21.41c.39.39.9.59 1.41.59.51 0 1.02-.2 1.41-.59l7.78-7.78 2.81-2.81c.8-.78.8-2.07 0-2.86zM5.41 20L4 18.59l7.72-7.72 1.47 1.35L5.41 20z\"/>\n",
              "  </svg>\n",
              "      </button>\n",
              "      \n",
              "  <style>\n",
              "    .colab-df-container {\n",
              "      display:flex;\n",
              "      flex-wrap:wrap;\n",
              "      gap: 12px;\n",
              "    }\n",
              "\n",
              "    .colab-df-convert {\n",
              "      background-color: #E8F0FE;\n",
              "      border: none;\n",
              "      border-radius: 50%;\n",
              "      cursor: pointer;\n",
              "      display: none;\n",
              "      fill: #1967D2;\n",
              "      height: 32px;\n",
              "      padding: 0 0 0 0;\n",
              "      width: 32px;\n",
              "    }\n",
              "\n",
              "    .colab-df-convert:hover {\n",
              "      background-color: #E2EBFA;\n",
              "      box-shadow: 0px 1px 2px rgba(60, 64, 67, 0.3), 0px 1px 3px 1px rgba(60, 64, 67, 0.15);\n",
              "      fill: #174EA6;\n",
              "    }\n",
              "\n",
              "    [theme=dark] .colab-df-convert {\n",
              "      background-color: #3B4455;\n",
              "      fill: #D2E3FC;\n",
              "    }\n",
              "\n",
              "    [theme=dark] .colab-df-convert:hover {\n",
              "      background-color: #434B5C;\n",
              "      box-shadow: 0px 1px 3px 1px rgba(0, 0, 0, 0.15);\n",
              "      filter: drop-shadow(0px 1px 2px rgba(0, 0, 0, 0.3));\n",
              "      fill: #FFFFFF;\n",
              "    }\n",
              "  </style>\n",
              "\n",
              "      <script>\n",
              "        const buttonEl =\n",
              "          document.querySelector('#df-90d0ac37-163d-49a4-a000-52cc4920bee6 button.colab-df-convert');\n",
              "        buttonEl.style.display =\n",
              "          google.colab.kernel.accessAllowed ? 'block' : 'none';\n",
              "\n",
              "        async function convertToInteractive(key) {\n",
              "          const element = document.querySelector('#df-90d0ac37-163d-49a4-a000-52cc4920bee6');\n",
              "          const dataTable =\n",
              "            await google.colab.kernel.invokeFunction('convertToInteractive',\n",
              "                                                     [key], {});\n",
              "          if (!dataTable) return;\n",
              "\n",
              "          const docLinkHtml = 'Like what you see? Visit the ' +\n",
              "            '<a target=\"_blank\" href=https://colab.research.google.com/notebooks/data_table.ipynb>data table notebook</a>'\n",
              "            + ' to learn more about interactive tables.';\n",
              "          element.innerHTML = '';\n",
              "          dataTable['output_type'] = 'display_data';\n",
              "          await google.colab.output.renderOutput(dataTable, element);\n",
              "          const docLink = document.createElement('div');\n",
              "          docLink.innerHTML = docLinkHtml;\n",
              "          element.appendChild(docLink);\n",
              "        }\n",
              "      </script>\n",
              "    </div>\n",
              "  </div>\n",
              "  "
            ]
          },
          "metadata": {},
          "execution_count": 8
        }
      ]
    },
    {
      "cell_type": "code",
      "source": [
        "df.shape"
      ],
      "metadata": {
        "colab": {
          "base_uri": "https://localhost:8080/"
        },
        "id": "3KbUt4UsN3SI",
        "outputId": "581d5796-42ae-4470-cb36-f1e1c56e24f4"
      },
      "execution_count": 9,
      "outputs": [
        {
          "output_type": "execute_result",
          "data": {
            "text/plain": [
              "(537979, 12)"
            ]
          },
          "metadata": {},
          "execution_count": 9
        }
      ]
    },
    {
      "cell_type": "code",
      "source": [
        "df.info()"
      ],
      "metadata": {
        "colab": {
          "base_uri": "https://localhost:8080/"
        },
        "id": "LaHmBdJbSdbW",
        "outputId": "a9f568cc-f167-4d52-dc0b-3a5db2acee7b"
      },
      "execution_count": 10,
      "outputs": [
        {
          "output_type": "stream",
          "name": "stdout",
          "text": [
            "<class 'pandas.core.frame.DataFrame'>\n",
            "RangeIndex: 537979 entries, 0 to 537978\n",
            "Data columns (total 12 columns):\n",
            " #   Column             Non-Null Count   Dtype         \n",
            "---  ------             --------------   -----         \n",
            " 0   CustomerID         404189 non-null  float64       \n",
            " 1   Item Code          537979 non-null  object        \n",
            " 2   InvoieNo           537979 non-null  int64         \n",
            " 3   Date of purchase   537979 non-null  datetime64[ns]\n",
            " 4   Quantity           537979 non-null  int64         \n",
            " 5   Time               537979 non-null  object        \n",
            " 6   price per Unit     537979 non-null  float64       \n",
            " 7   Price              537979 non-null  float64       \n",
            " 8   Shipping Location  537979 non-null  object        \n",
            " 9   Cancelled_status   8345 non-null    float64       \n",
            " 10  Reason of return   3 non-null       object        \n",
            " 11  Sold as set        0 non-null       float64       \n",
            "dtypes: datetime64[ns](1), float64(5), int64(2), object(4)\n",
            "memory usage: 49.3+ MB\n"
          ]
        }
      ]
    },
    {
      "cell_type": "code",
      "source": [
        "df.nunique()   #checking unique values"
      ],
      "metadata": {
        "colab": {
          "base_uri": "https://localhost:8080/"
        },
        "id": "lv-YfqYaXtjU",
        "outputId": "2c7f03e4-d66e-4139-aeb7-5b39c379a269"
      },
      "execution_count": 11,
      "outputs": [
        {
          "output_type": "execute_result",
          "data": {
            "text/plain": [
              "CustomerID            4349\n",
              "Item Code             4009\n",
              "InvoieNo             24928\n",
              "Date of purchase       381\n",
              "Quantity               462\n",
              "Time                   770\n",
              "price per Unit        3479\n",
              "Price                16327\n",
              "Shipping Location       20\n",
              "Cancelled_status         1\n",
              "Reason of return         2\n",
              "Sold as set              0\n",
              "dtype: int64"
            ]
          },
          "metadata": {},
          "execution_count": 11
        }
      ]
    },
    {
      "cell_type": "code",
      "source": [
        "\n",
        "# check totsl nm of % dta missing\n",
        "\n",
        "df.isnull().sum() / len(df)*100\n"
      ],
      "metadata": {
        "colab": {
          "base_uri": "https://localhost:8080/"
        },
        "id": "FWXEYMgMd2u3",
        "outputId": "ff2fc3cd-f228-4704-fe50-5c1c69029cdc"
      },
      "execution_count": 12,
      "outputs": [
        {
          "output_type": "execute_result",
          "data": {
            "text/plain": [
              "CustomerID            24.869000\n",
              "Item Code              0.000000\n",
              "InvoieNo               0.000000\n",
              "Date of purchase       0.000000\n",
              "Quantity               0.000000\n",
              "Time                   0.000000\n",
              "price per Unit         0.000000\n",
              "Price                  0.000000\n",
              "Shipping Location      0.000000\n",
              "Cancelled_status      98.448824\n",
              "Reason of return      99.999442\n",
              "Sold as set          100.000000\n",
              "dtype: float64"
            ]
          },
          "metadata": {},
          "execution_count": 12
        }
      ]
    },
    {
      "cell_type": "code",
      "source": [
        "# i will drop missing data for customer row wise\n",
        "\n",
        "# data cleaning --  duplicate data\n",
        "\n",
        "\n",
        "\n",
        "df1 = df.drop(['Sold as set', 'Reason of return', 'Cancelled_status'], axis = 1)"
      ],
      "metadata": {
        "id": "f3YVQDB4eN3M"
      },
      "execution_count": 13,
      "outputs": []
    },
    {
      "cell_type": "code",
      "source": [
        "df1"
      ],
      "metadata": {
        "colab": {
          "base_uri": "https://localhost:8080/",
          "height": 424
        },
        "id": "wfop4jSEgNvc",
        "outputId": "678ca8ec-24a2-4c6a-bbed-1cf22b515d7f"
      },
      "execution_count": 14,
      "outputs": [
        {
          "output_type": "execute_result",
          "data": {
            "text/plain": [
              "        CustomerID Item Code  InvoieNo Date of purchase  Quantity      Time  \\\n",
              "0           4355.0     15734    398177       2017-10-29         6  15:36:00   \n",
              "1           4352.0     14616    394422       2017-10-05         2  14:53:00   \n",
              "2           4352.0     14614    394422       2017-10-12         2  14:53:00   \n",
              "3           4352.0    85014B    388633       2017-08-22         3  14:47:00   \n",
              "4           4352.0     15364    394422       2017-10-10         2  14:53:00   \n",
              "...            ...       ...       ...              ...       ...       ...   \n",
              "537974         NaN    85194L    372313       2017-03-23         6  09:27:00   \n",
              "537975         NaN     14693    367605       2017-02-06         2  14:25:00   \n",
              "537976         NaN     14693    368246       2017-02-06         3  10:40:00   \n",
              "537977         NaN    85194L    366891       2017-01-29        15  17:05:00   \n",
              "537978         NaN     14693    391243       2017-09-17        20  12:42:00   \n",
              "\n",
              "        price per Unit   Price Shipping Location  \n",
              "0                321.0  1926.0        Location 1  \n",
              "1                870.0  1740.0        Location 1  \n",
              "2                933.0  1866.0        Location 1  \n",
              "3                623.0  1869.0        Location 1  \n",
              "4                944.0  1888.0        Location 1  \n",
              "...                ...     ...               ...  \n",
              "537974           198.0  1188.0        Location 8  \n",
              "537975           761.0  1522.0        Location 8  \n",
              "537976           761.0  2283.0        Location 8  \n",
              "537977           198.0  2970.0        Location 8  \n",
              "537978           417.0  8340.0        Location 8  \n",
              "\n",
              "[537979 rows x 9 columns]"
            ],
            "text/html": [
              "\n",
              "  <div id=\"df-277a2cbd-0a20-43fc-9f0d-3bd42411b49d\">\n",
              "    <div class=\"colab-df-container\">\n",
              "      <div>\n",
              "<style scoped>\n",
              "    .dataframe tbody tr th:only-of-type {\n",
              "        vertical-align: middle;\n",
              "    }\n",
              "\n",
              "    .dataframe tbody tr th {\n",
              "        vertical-align: top;\n",
              "    }\n",
              "\n",
              "    .dataframe thead th {\n",
              "        text-align: right;\n",
              "    }\n",
              "</style>\n",
              "<table border=\"1\" class=\"dataframe\">\n",
              "  <thead>\n",
              "    <tr style=\"text-align: right;\">\n",
              "      <th></th>\n",
              "      <th>CustomerID</th>\n",
              "      <th>Item Code</th>\n",
              "      <th>InvoieNo</th>\n",
              "      <th>Date of purchase</th>\n",
              "      <th>Quantity</th>\n",
              "      <th>Time</th>\n",
              "      <th>price per Unit</th>\n",
              "      <th>Price</th>\n",
              "      <th>Shipping Location</th>\n",
              "    </tr>\n",
              "  </thead>\n",
              "  <tbody>\n",
              "    <tr>\n",
              "      <th>0</th>\n",
              "      <td>4355.0</td>\n",
              "      <td>15734</td>\n",
              "      <td>398177</td>\n",
              "      <td>2017-10-29</td>\n",
              "      <td>6</td>\n",
              "      <td>15:36:00</td>\n",
              "      <td>321.0</td>\n",
              "      <td>1926.0</td>\n",
              "      <td>Location 1</td>\n",
              "    </tr>\n",
              "    <tr>\n",
              "      <th>1</th>\n",
              "      <td>4352.0</td>\n",
              "      <td>14616</td>\n",
              "      <td>394422</td>\n",
              "      <td>2017-10-05</td>\n",
              "      <td>2</td>\n",
              "      <td>14:53:00</td>\n",
              "      <td>870.0</td>\n",
              "      <td>1740.0</td>\n",
              "      <td>Location 1</td>\n",
              "    </tr>\n",
              "    <tr>\n",
              "      <th>2</th>\n",
              "      <td>4352.0</td>\n",
              "      <td>14614</td>\n",
              "      <td>394422</td>\n",
              "      <td>2017-10-12</td>\n",
              "      <td>2</td>\n",
              "      <td>14:53:00</td>\n",
              "      <td>933.0</td>\n",
              "      <td>1866.0</td>\n",
              "      <td>Location 1</td>\n",
              "    </tr>\n",
              "    <tr>\n",
              "      <th>3</th>\n",
              "      <td>4352.0</td>\n",
              "      <td>85014B</td>\n",
              "      <td>388633</td>\n",
              "      <td>2017-08-22</td>\n",
              "      <td>3</td>\n",
              "      <td>14:47:00</td>\n",
              "      <td>623.0</td>\n",
              "      <td>1869.0</td>\n",
              "      <td>Location 1</td>\n",
              "    </tr>\n",
              "    <tr>\n",
              "      <th>4</th>\n",
              "      <td>4352.0</td>\n",
              "      <td>15364</td>\n",
              "      <td>394422</td>\n",
              "      <td>2017-10-10</td>\n",
              "      <td>2</td>\n",
              "      <td>14:53:00</td>\n",
              "      <td>944.0</td>\n",
              "      <td>1888.0</td>\n",
              "      <td>Location 1</td>\n",
              "    </tr>\n",
              "    <tr>\n",
              "      <th>...</th>\n",
              "      <td>...</td>\n",
              "      <td>...</td>\n",
              "      <td>...</td>\n",
              "      <td>...</td>\n",
              "      <td>...</td>\n",
              "      <td>...</td>\n",
              "      <td>...</td>\n",
              "      <td>...</td>\n",
              "      <td>...</td>\n",
              "    </tr>\n",
              "    <tr>\n",
              "      <th>537974</th>\n",
              "      <td>NaN</td>\n",
              "      <td>85194L</td>\n",
              "      <td>372313</td>\n",
              "      <td>2017-03-23</td>\n",
              "      <td>6</td>\n",
              "      <td>09:27:00</td>\n",
              "      <td>198.0</td>\n",
              "      <td>1188.0</td>\n",
              "      <td>Location 8</td>\n",
              "    </tr>\n",
              "    <tr>\n",
              "      <th>537975</th>\n",
              "      <td>NaN</td>\n",
              "      <td>14693</td>\n",
              "      <td>367605</td>\n",
              "      <td>2017-02-06</td>\n",
              "      <td>2</td>\n",
              "      <td>14:25:00</td>\n",
              "      <td>761.0</td>\n",
              "      <td>1522.0</td>\n",
              "      <td>Location 8</td>\n",
              "    </tr>\n",
              "    <tr>\n",
              "      <th>537976</th>\n",
              "      <td>NaN</td>\n",
              "      <td>14693</td>\n",
              "      <td>368246</td>\n",
              "      <td>2017-02-06</td>\n",
              "      <td>3</td>\n",
              "      <td>10:40:00</td>\n",
              "      <td>761.0</td>\n",
              "      <td>2283.0</td>\n",
              "      <td>Location 8</td>\n",
              "    </tr>\n",
              "    <tr>\n",
              "      <th>537977</th>\n",
              "      <td>NaN</td>\n",
              "      <td>85194L</td>\n",
              "      <td>366891</td>\n",
              "      <td>2017-01-29</td>\n",
              "      <td>15</td>\n",
              "      <td>17:05:00</td>\n",
              "      <td>198.0</td>\n",
              "      <td>2970.0</td>\n",
              "      <td>Location 8</td>\n",
              "    </tr>\n",
              "    <tr>\n",
              "      <th>537978</th>\n",
              "      <td>NaN</td>\n",
              "      <td>14693</td>\n",
              "      <td>391243</td>\n",
              "      <td>2017-09-17</td>\n",
              "      <td>20</td>\n",
              "      <td>12:42:00</td>\n",
              "      <td>417.0</td>\n",
              "      <td>8340.0</td>\n",
              "      <td>Location 8</td>\n",
              "    </tr>\n",
              "  </tbody>\n",
              "</table>\n",
              "<p>537979 rows × 9 columns</p>\n",
              "</div>\n",
              "      <button class=\"colab-df-convert\" onclick=\"convertToInteractive('df-277a2cbd-0a20-43fc-9f0d-3bd42411b49d')\"\n",
              "              title=\"Convert this dataframe to an interactive table.\"\n",
              "              style=\"display:none;\">\n",
              "        \n",
              "  <svg xmlns=\"http://www.w3.org/2000/svg\" height=\"24px\"viewBox=\"0 0 24 24\"\n",
              "       width=\"24px\">\n",
              "    <path d=\"M0 0h24v24H0V0z\" fill=\"none\"/>\n",
              "    <path d=\"M18.56 5.44l.94 2.06.94-2.06 2.06-.94-2.06-.94-.94-2.06-.94 2.06-2.06.94zm-11 1L8.5 8.5l.94-2.06 2.06-.94-2.06-.94L8.5 2.5l-.94 2.06-2.06.94zm10 10l.94 2.06.94-2.06 2.06-.94-2.06-.94-.94-2.06-.94 2.06-2.06.94z\"/><path d=\"M17.41 7.96l-1.37-1.37c-.4-.4-.92-.59-1.43-.59-.52 0-1.04.2-1.43.59L10.3 9.45l-7.72 7.72c-.78.78-.78 2.05 0 2.83L4 21.41c.39.39.9.59 1.41.59.51 0 1.02-.2 1.41-.59l7.78-7.78 2.81-2.81c.8-.78.8-2.07 0-2.86zM5.41 20L4 18.59l7.72-7.72 1.47 1.35L5.41 20z\"/>\n",
              "  </svg>\n",
              "      </button>\n",
              "      \n",
              "  <style>\n",
              "    .colab-df-container {\n",
              "      display:flex;\n",
              "      flex-wrap:wrap;\n",
              "      gap: 12px;\n",
              "    }\n",
              "\n",
              "    .colab-df-convert {\n",
              "      background-color: #E8F0FE;\n",
              "      border: none;\n",
              "      border-radius: 50%;\n",
              "      cursor: pointer;\n",
              "      display: none;\n",
              "      fill: #1967D2;\n",
              "      height: 32px;\n",
              "      padding: 0 0 0 0;\n",
              "      width: 32px;\n",
              "    }\n",
              "\n",
              "    .colab-df-convert:hover {\n",
              "      background-color: #E2EBFA;\n",
              "      box-shadow: 0px 1px 2px rgba(60, 64, 67, 0.3), 0px 1px 3px 1px rgba(60, 64, 67, 0.15);\n",
              "      fill: #174EA6;\n",
              "    }\n",
              "\n",
              "    [theme=dark] .colab-df-convert {\n",
              "      background-color: #3B4455;\n",
              "      fill: #D2E3FC;\n",
              "    }\n",
              "\n",
              "    [theme=dark] .colab-df-convert:hover {\n",
              "      background-color: #434B5C;\n",
              "      box-shadow: 0px 1px 3px 1px rgba(0, 0, 0, 0.15);\n",
              "      filter: drop-shadow(0px 1px 2px rgba(0, 0, 0, 0.3));\n",
              "      fill: #FFFFFF;\n",
              "    }\n",
              "  </style>\n",
              "\n",
              "      <script>\n",
              "        const buttonEl =\n",
              "          document.querySelector('#df-277a2cbd-0a20-43fc-9f0d-3bd42411b49d button.colab-df-convert');\n",
              "        buttonEl.style.display =\n",
              "          google.colab.kernel.accessAllowed ? 'block' : 'none';\n",
              "\n",
              "        async function convertToInteractive(key) {\n",
              "          const element = document.querySelector('#df-277a2cbd-0a20-43fc-9f0d-3bd42411b49d');\n",
              "          const dataTable =\n",
              "            await google.colab.kernel.invokeFunction('convertToInteractive',\n",
              "                                                     [key], {});\n",
              "          if (!dataTable) return;\n",
              "\n",
              "          const docLinkHtml = 'Like what you see? Visit the ' +\n",
              "            '<a target=\"_blank\" href=https://colab.research.google.com/notebooks/data_table.ipynb>data table notebook</a>'\n",
              "            + ' to learn more about interactive tables.';\n",
              "          element.innerHTML = '';\n",
              "          dataTable['output_type'] = 'display_data';\n",
              "          await google.colab.output.renderOutput(dataTable, element);\n",
              "          const docLink = document.createElement('div');\n",
              "          docLink.innerHTML = docLinkHtml;\n",
              "          element.appendChild(docLink);\n",
              "        }\n",
              "      </script>\n",
              "    </div>\n",
              "  </div>\n",
              "  "
            ]
          },
          "metadata": {},
          "execution_count": 14
        }
      ]
    },
    {
      "cell_type": "code",
      "source": [
        ""
      ],
      "metadata": {
        "id": "EZrP9MAohDV7"
      },
      "execution_count": 24,
      "outputs": []
    },
    {
      "cell_type": "code",
      "source": [
        "df1.loc[df.duplicated(),:]\n",
        "\n",
        "# finding duplicate values"
      ],
      "metadata": {
        "colab": {
          "base_uri": "https://localhost:8080/",
          "height": 332
        },
        "id": "rmT3kdNmhKgM",
        "outputId": "2344b3c0-c735-469b-8408-33ec1d99903a"
      },
      "execution_count": 19,
      "outputs": [
        {
          "output_type": "execute_result",
          "data": {
            "text/plain": [
              "        CustomerID Item Code  InvoieNo Date of purchase  Quantity      Time  \\\n",
              "61202       4043.0     15819    403353       2017-12-02         1  14:07:00   \n",
              "70587       3984.0     15422    405579       2017-12-09        24  14:09:00   \n",
              "84823       3828.0     14519    398139       2017-10-31         1  14:04:00   \n",
              "120521      3384.0     15121    380588       2017-06-11         1  11:37:00   \n",
              "182786      2607.0     15660    393225       2017-09-30         1  12:31:00   \n",
              "248215      1852.0     15614    382863       2017-07-02        12  09:53:00   \n",
              "310310      1291.0     13958    368695       2017-02-14         2  16:17:00   \n",
              "325175      1076.0      2020    405755       2017-12-13        12  15:48:00   \n",
              "414854         NaN      2020    386281       2017-07-31         1  17:09:00   \n",
              "\n",
              "        price per Unit   Price Shipping Location  \n",
              "61202            447.0   447.0       Location 36  \n",
              "70587             77.0  1848.0       Location 36  \n",
              "84823             85.0    85.0       Location 36  \n",
              "120521           298.0   298.0       Location 36  \n",
              "182786           484.0   484.0       Location 36  \n",
              "248215           221.0  2652.0       Location 36  \n",
              "310310           298.0   596.0       Location 36  \n",
              "325175            58.0   696.0       Location 36  \n",
              "414854           104.0   104.0       Location 36  "
            ],
            "text/html": [
              "\n",
              "  <div id=\"df-d41e4904-4599-4345-a73d-ab8792e4ea91\">\n",
              "    <div class=\"colab-df-container\">\n",
              "      <div>\n",
              "<style scoped>\n",
              "    .dataframe tbody tr th:only-of-type {\n",
              "        vertical-align: middle;\n",
              "    }\n",
              "\n",
              "    .dataframe tbody tr th {\n",
              "        vertical-align: top;\n",
              "    }\n",
              "\n",
              "    .dataframe thead th {\n",
              "        text-align: right;\n",
              "    }\n",
              "</style>\n",
              "<table border=\"1\" class=\"dataframe\">\n",
              "  <thead>\n",
              "    <tr style=\"text-align: right;\">\n",
              "      <th></th>\n",
              "      <th>CustomerID</th>\n",
              "      <th>Item Code</th>\n",
              "      <th>InvoieNo</th>\n",
              "      <th>Date of purchase</th>\n",
              "      <th>Quantity</th>\n",
              "      <th>Time</th>\n",
              "      <th>price per Unit</th>\n",
              "      <th>Price</th>\n",
              "      <th>Shipping Location</th>\n",
              "    </tr>\n",
              "  </thead>\n",
              "  <tbody>\n",
              "    <tr>\n",
              "      <th>61202</th>\n",
              "      <td>4043.0</td>\n",
              "      <td>15819</td>\n",
              "      <td>403353</td>\n",
              "      <td>2017-12-02</td>\n",
              "      <td>1</td>\n",
              "      <td>14:07:00</td>\n",
              "      <td>447.0</td>\n",
              "      <td>447.0</td>\n",
              "      <td>Location 36</td>\n",
              "    </tr>\n",
              "    <tr>\n",
              "      <th>70587</th>\n",
              "      <td>3984.0</td>\n",
              "      <td>15422</td>\n",
              "      <td>405579</td>\n",
              "      <td>2017-12-09</td>\n",
              "      <td>24</td>\n",
              "      <td>14:09:00</td>\n",
              "      <td>77.0</td>\n",
              "      <td>1848.0</td>\n",
              "      <td>Location 36</td>\n",
              "    </tr>\n",
              "    <tr>\n",
              "      <th>84823</th>\n",
              "      <td>3828.0</td>\n",
              "      <td>14519</td>\n",
              "      <td>398139</td>\n",
              "      <td>2017-10-31</td>\n",
              "      <td>1</td>\n",
              "      <td>14:04:00</td>\n",
              "      <td>85.0</td>\n",
              "      <td>85.0</td>\n",
              "      <td>Location 36</td>\n",
              "    </tr>\n",
              "    <tr>\n",
              "      <th>120521</th>\n",
              "      <td>3384.0</td>\n",
              "      <td>15121</td>\n",
              "      <td>380588</td>\n",
              "      <td>2017-06-11</td>\n",
              "      <td>1</td>\n",
              "      <td>11:37:00</td>\n",
              "      <td>298.0</td>\n",
              "      <td>298.0</td>\n",
              "      <td>Location 36</td>\n",
              "    </tr>\n",
              "    <tr>\n",
              "      <th>182786</th>\n",
              "      <td>2607.0</td>\n",
              "      <td>15660</td>\n",
              "      <td>393225</td>\n",
              "      <td>2017-09-30</td>\n",
              "      <td>1</td>\n",
              "      <td>12:31:00</td>\n",
              "      <td>484.0</td>\n",
              "      <td>484.0</td>\n",
              "      <td>Location 36</td>\n",
              "    </tr>\n",
              "    <tr>\n",
              "      <th>248215</th>\n",
              "      <td>1852.0</td>\n",
              "      <td>15614</td>\n",
              "      <td>382863</td>\n",
              "      <td>2017-07-02</td>\n",
              "      <td>12</td>\n",
              "      <td>09:53:00</td>\n",
              "      <td>221.0</td>\n",
              "      <td>2652.0</td>\n",
              "      <td>Location 36</td>\n",
              "    </tr>\n",
              "    <tr>\n",
              "      <th>310310</th>\n",
              "      <td>1291.0</td>\n",
              "      <td>13958</td>\n",
              "      <td>368695</td>\n",
              "      <td>2017-02-14</td>\n",
              "      <td>2</td>\n",
              "      <td>16:17:00</td>\n",
              "      <td>298.0</td>\n",
              "      <td>596.0</td>\n",
              "      <td>Location 36</td>\n",
              "    </tr>\n",
              "    <tr>\n",
              "      <th>325175</th>\n",
              "      <td>1076.0</td>\n",
              "      <td>2020</td>\n",
              "      <td>405755</td>\n",
              "      <td>2017-12-13</td>\n",
              "      <td>12</td>\n",
              "      <td>15:48:00</td>\n",
              "      <td>58.0</td>\n",
              "      <td>696.0</td>\n",
              "      <td>Location 36</td>\n",
              "    </tr>\n",
              "    <tr>\n",
              "      <th>414854</th>\n",
              "      <td>NaN</td>\n",
              "      <td>2020</td>\n",
              "      <td>386281</td>\n",
              "      <td>2017-07-31</td>\n",
              "      <td>1</td>\n",
              "      <td>17:09:00</td>\n",
              "      <td>104.0</td>\n",
              "      <td>104.0</td>\n",
              "      <td>Location 36</td>\n",
              "    </tr>\n",
              "  </tbody>\n",
              "</table>\n",
              "</div>\n",
              "      <button class=\"colab-df-convert\" onclick=\"convertToInteractive('df-d41e4904-4599-4345-a73d-ab8792e4ea91')\"\n",
              "              title=\"Convert this dataframe to an interactive table.\"\n",
              "              style=\"display:none;\">\n",
              "        \n",
              "  <svg xmlns=\"http://www.w3.org/2000/svg\" height=\"24px\"viewBox=\"0 0 24 24\"\n",
              "       width=\"24px\">\n",
              "    <path d=\"M0 0h24v24H0V0z\" fill=\"none\"/>\n",
              "    <path d=\"M18.56 5.44l.94 2.06.94-2.06 2.06-.94-2.06-.94-.94-2.06-.94 2.06-2.06.94zm-11 1L8.5 8.5l.94-2.06 2.06-.94-2.06-.94L8.5 2.5l-.94 2.06-2.06.94zm10 10l.94 2.06.94-2.06 2.06-.94-2.06-.94-.94-2.06-.94 2.06-2.06.94z\"/><path d=\"M17.41 7.96l-1.37-1.37c-.4-.4-.92-.59-1.43-.59-.52 0-1.04.2-1.43.59L10.3 9.45l-7.72 7.72c-.78.78-.78 2.05 0 2.83L4 21.41c.39.39.9.59 1.41.59.51 0 1.02-.2 1.41-.59l7.78-7.78 2.81-2.81c.8-.78.8-2.07 0-2.86zM5.41 20L4 18.59l7.72-7.72 1.47 1.35L5.41 20z\"/>\n",
              "  </svg>\n",
              "      </button>\n",
              "      \n",
              "  <style>\n",
              "    .colab-df-container {\n",
              "      display:flex;\n",
              "      flex-wrap:wrap;\n",
              "      gap: 12px;\n",
              "    }\n",
              "\n",
              "    .colab-df-convert {\n",
              "      background-color: #E8F0FE;\n",
              "      border: none;\n",
              "      border-radius: 50%;\n",
              "      cursor: pointer;\n",
              "      display: none;\n",
              "      fill: #1967D2;\n",
              "      height: 32px;\n",
              "      padding: 0 0 0 0;\n",
              "      width: 32px;\n",
              "    }\n",
              "\n",
              "    .colab-df-convert:hover {\n",
              "      background-color: #E2EBFA;\n",
              "      box-shadow: 0px 1px 2px rgba(60, 64, 67, 0.3), 0px 1px 3px 1px rgba(60, 64, 67, 0.15);\n",
              "      fill: #174EA6;\n",
              "    }\n",
              "\n",
              "    [theme=dark] .colab-df-convert {\n",
              "      background-color: #3B4455;\n",
              "      fill: #D2E3FC;\n",
              "    }\n",
              "\n",
              "    [theme=dark] .colab-df-convert:hover {\n",
              "      background-color: #434B5C;\n",
              "      box-shadow: 0px 1px 3px 1px rgba(0, 0, 0, 0.15);\n",
              "      filter: drop-shadow(0px 1px 2px rgba(0, 0, 0, 0.3));\n",
              "      fill: #FFFFFF;\n",
              "    }\n",
              "  </style>\n",
              "\n",
              "      <script>\n",
              "        const buttonEl =\n",
              "          document.querySelector('#df-d41e4904-4599-4345-a73d-ab8792e4ea91 button.colab-df-convert');\n",
              "        buttonEl.style.display =\n",
              "          google.colab.kernel.accessAllowed ? 'block' : 'none';\n",
              "\n",
              "        async function convertToInteractive(key) {\n",
              "          const element = document.querySelector('#df-d41e4904-4599-4345-a73d-ab8792e4ea91');\n",
              "          const dataTable =\n",
              "            await google.colab.kernel.invokeFunction('convertToInteractive',\n",
              "                                                     [key], {});\n",
              "          if (!dataTable) return;\n",
              "\n",
              "          const docLinkHtml = 'Like what you see? Visit the ' +\n",
              "            '<a target=\"_blank\" href=https://colab.research.google.com/notebooks/data_table.ipynb>data table notebook</a>'\n",
              "            + ' to learn more about interactive tables.';\n",
              "          element.innerHTML = '';\n",
              "          dataTable['output_type'] = 'display_data';\n",
              "          await google.colab.output.renderOutput(dataTable, element);\n",
              "          const docLink = document.createElement('div');\n",
              "          docLink.innerHTML = docLinkHtml;\n",
              "          element.appendChild(docLink);\n",
              "        }\n",
              "      </script>\n",
              "    </div>\n",
              "  </div>\n",
              "  "
            ]
          },
          "metadata": {},
          "execution_count": 19
        }
      ]
    },
    {
      "cell_type": "code",
      "source": [
        "df1.shape"
      ],
      "metadata": {
        "colab": {
          "base_uri": "https://localhost:8080/"
        },
        "id": "wmRx0_f0lN5m",
        "outputId": "a985a095-8e76-47df-c502-5b98dd46e804"
      },
      "execution_count": 21,
      "outputs": [
        {
          "output_type": "execute_result",
          "data": {
            "text/plain": [
              "(537979, 9)"
            ]
          },
          "metadata": {},
          "execution_count": 21
        }
      ]
    },
    {
      "cell_type": "code",
      "source": [
        "df2 = df1.drop_duplicates(ignore_index =True)    # removing duplicate values"
      ],
      "metadata": {
        "id": "XXNBPqceispa"
      },
      "execution_count": 23,
      "outputs": []
    },
    {
      "cell_type": "code",
      "source": [
        "df2.shape"
      ],
      "metadata": {
        "colab": {
          "base_uri": "https://localhost:8080/"
        },
        "id": "jbfa8gYmissZ",
        "outputId": "b93fec10-d94b-40a0-f8c7-9ae555f26539"
      },
      "execution_count": 24,
      "outputs": [
        {
          "output_type": "execute_result",
          "data": {
            "text/plain": [
              "(537970, 9)"
            ]
          },
          "metadata": {},
          "execution_count": 24
        }
      ]
    },
    {
      "cell_type": "code",
      "source": [
        "df2.isna().sum()    # we have null values in customer id\n"
      ],
      "metadata": {
        "colab": {
          "base_uri": "https://localhost:8080/"
        },
        "id": "GLXLMXyNlYhM",
        "outputId": "6a30ca3b-e069-40ed-bd55-9764925adb12"
      },
      "execution_count": 25,
      "outputs": [
        {
          "output_type": "execute_result",
          "data": {
            "text/plain": [
              "CustomerID           133789\n",
              "Item Code                 0\n",
              "InvoieNo                  0\n",
              "Date of purchase          0\n",
              "Quantity                  0\n",
              "Time                      0\n",
              "price per Unit            0\n",
              "Price                     0\n",
              "Shipping Location         0\n",
              "dtype: int64"
            ]
          },
          "metadata": {},
          "execution_count": 25
        }
      ]
    },
    {
      "cell_type": "code",
      "source": [
        " df2 = df2.dropna(subset=['CustomerID'])  # we removed now all the rows in customer id where it is null , items removed 1333789"
      ],
      "metadata": {
        "id": "Cswec69nltBq"
      },
      "execution_count": 26,
      "outputs": []
    },
    {
      "cell_type": "code",
      "source": [
        "df2.shape"
      ],
      "metadata": {
        "colab": {
          "base_uri": "https://localhost:8080/"
        },
        "id": "rqP521BZl-_r",
        "outputId": "edd4a24d-e862-4fb8-f884-58452e9c9b80"
      },
      "execution_count": 27,
      "outputs": [
        {
          "output_type": "execute_result",
          "data": {
            "text/plain": [
              "(404181, 9)"
            ]
          },
          "metadata": {},
          "execution_count": 27
        }
      ]
    },
    {
      "cell_type": "code",
      "source": [
        "df2.isna().sum()     # now we dont have any null values"
      ],
      "metadata": {
        "colab": {
          "base_uri": "https://localhost:8080/"
        },
        "id": "7gEl8ttFmA86",
        "outputId": "9a1b8185-6fcf-47ac-97b1-689479995db4"
      },
      "execution_count": 28,
      "outputs": [
        {
          "output_type": "execute_result",
          "data": {
            "text/plain": [
              "CustomerID           0\n",
              "Item Code            0\n",
              "InvoieNo             0\n",
              "Date of purchase     0\n",
              "Quantity             0\n",
              "Time                 0\n",
              "price per Unit       0\n",
              "Price                0\n",
              "Shipping Location    0\n",
              "dtype: int64"
            ]
          },
          "metadata": {},
          "execution_count": 28
        }
      ]
    },
    {
      "cell_type": "code",
      "source": [
        "df2.dtypes   # checking all the data types"
      ],
      "metadata": {
        "colab": {
          "base_uri": "https://localhost:8080/"
        },
        "id": "Jipmewzombrm",
        "outputId": "0da3768f-5838-4a88-a9a2-97ca2372a1c0"
      },
      "execution_count": 31,
      "outputs": [
        {
          "output_type": "execute_result",
          "data": {
            "text/plain": [
              "CustomerID                  float64\n",
              "Item Code                    object\n",
              "InvoieNo                      int64\n",
              "Date of purchase     datetime64[ns]\n",
              "Quantity                      int64\n",
              "Time                         object\n",
              "price per Unit              float64\n",
              "Price                       float64\n",
              "Shipping Location            object\n",
              "dtype: object"
            ]
          },
          "metadata": {},
          "execution_count": 31
        }
      ]
    },
    {
      "cell_type": "code",
      "source": [
        "df2['Date'] = pd.to_datetime(df2['Date of purchase'])\n"
      ],
      "metadata": {
        "id": "pg3_VETpmjto"
      },
      "execution_count": 43,
      "outputs": []
    },
    {
      "cell_type": "code",
      "source": [
        "df2['Date2'] = df2['Date']  # created 2 dummy columns for future use to add rmf and frequency "
      ],
      "metadata": {
        "id": "_yoZS4aEuNhy"
      },
      "execution_count": 53,
      "outputs": []
    },
    {
      "cell_type": "code",
      "source": [
        "df2['Date3'] = df2['Date'] "
      ],
      "metadata": {
        "id": "i7digqJYy8aF"
      },
      "execution_count": 54,
      "outputs": []
    },
    {
      "cell_type": "code",
      "source": [
        "df2"
      ],
      "metadata": {
        "colab": {
          "base_uri": "https://localhost:8080/",
          "height": 424
        },
        "id": "fgLADyEKnXh4",
        "outputId": "6a4f19e5-74a5-4a0c-fc4c-472bd68c051f"
      },
      "execution_count": 55,
      "outputs": [
        {
          "output_type": "execute_result",
          "data": {
            "text/plain": [
              "        CustomerID Item Code  InvoieNo Date of purchase  Quantity      Time  \\\n",
              "0           4355.0     15734    398177       2017-10-29         6  15:36:00   \n",
              "1           4352.0     14616    394422       2017-10-05         2  14:53:00   \n",
              "2           4352.0     14614    394422       2017-10-12         2  14:53:00   \n",
              "3           4352.0    85014B    388633       2017-08-22         3  14:47:00   \n",
              "4           4352.0     15364    394422       2017-10-10         2  14:53:00   \n",
              "...            ...       ...       ...              ...       ...       ...   \n",
              "537936        37.0     14693    402292       2017-11-28         1  12:07:00   \n",
              "537937        37.0     14693    402292       2017-11-27         1  12:07:00   \n",
              "537938        21.0     77618    363890       2016-12-21         8  12:58:00   \n",
              "537939        21.0    85194L    363890       2016-12-21        36  12:58:00   \n",
              "537940        21.0     14693    363890       2016-12-17        13  12:58:00   \n",
              "\n",
              "        price per Unit   Price Shipping Location       Date      Date2  \\\n",
              "0                321.0  1926.0        Location 1 2017-10-29 2017-10-29   \n",
              "1                870.0  1740.0        Location 1 2017-10-05 2017-10-05   \n",
              "2                933.0  1866.0        Location 1 2017-10-12 2017-10-12   \n",
              "3                623.0  1869.0        Location 1 2017-08-22 2017-08-22   \n",
              "4                944.0  1888.0        Location 1 2017-10-10 2017-10-10   \n",
              "...                ...     ...               ...        ...        ...   \n",
              "537936           384.0   384.0        Location 8 2017-11-28 2017-11-28   \n",
              "537937           398.0   398.0        Location 8 2017-11-27 2017-11-27   \n",
              "537938           308.0  2464.0        Location 8 2016-12-21 2016-12-21   \n",
              "537939           113.0  4068.0        Location 8 2016-12-21 2016-12-21   \n",
              "537940           380.0  4940.0        Location 8 2016-12-17 2016-12-17   \n",
              "\n",
              "            Date3  \n",
              "0      2017-10-29  \n",
              "1      2017-10-05  \n",
              "2      2017-10-12  \n",
              "3      2017-08-22  \n",
              "4      2017-10-10  \n",
              "...           ...  \n",
              "537936 2017-11-28  \n",
              "537937 2017-11-27  \n",
              "537938 2016-12-21  \n",
              "537939 2016-12-21  \n",
              "537940 2016-12-17  \n",
              "\n",
              "[404181 rows x 12 columns]"
            ],
            "text/html": [
              "\n",
              "  <div id=\"df-65444096-463f-42e2-bf4b-774686c7b807\">\n",
              "    <div class=\"colab-df-container\">\n",
              "      <div>\n",
              "<style scoped>\n",
              "    .dataframe tbody tr th:only-of-type {\n",
              "        vertical-align: middle;\n",
              "    }\n",
              "\n",
              "    .dataframe tbody tr th {\n",
              "        vertical-align: top;\n",
              "    }\n",
              "\n",
              "    .dataframe thead th {\n",
              "        text-align: right;\n",
              "    }\n",
              "</style>\n",
              "<table border=\"1\" class=\"dataframe\">\n",
              "  <thead>\n",
              "    <tr style=\"text-align: right;\">\n",
              "      <th></th>\n",
              "      <th>CustomerID</th>\n",
              "      <th>Item Code</th>\n",
              "      <th>InvoieNo</th>\n",
              "      <th>Date of purchase</th>\n",
              "      <th>Quantity</th>\n",
              "      <th>Time</th>\n",
              "      <th>price per Unit</th>\n",
              "      <th>Price</th>\n",
              "      <th>Shipping Location</th>\n",
              "      <th>Date</th>\n",
              "      <th>Date2</th>\n",
              "      <th>Date3</th>\n",
              "    </tr>\n",
              "  </thead>\n",
              "  <tbody>\n",
              "    <tr>\n",
              "      <th>0</th>\n",
              "      <td>4355.0</td>\n",
              "      <td>15734</td>\n",
              "      <td>398177</td>\n",
              "      <td>2017-10-29</td>\n",
              "      <td>6</td>\n",
              "      <td>15:36:00</td>\n",
              "      <td>321.0</td>\n",
              "      <td>1926.0</td>\n",
              "      <td>Location 1</td>\n",
              "      <td>2017-10-29</td>\n",
              "      <td>2017-10-29</td>\n",
              "      <td>2017-10-29</td>\n",
              "    </tr>\n",
              "    <tr>\n",
              "      <th>1</th>\n",
              "      <td>4352.0</td>\n",
              "      <td>14616</td>\n",
              "      <td>394422</td>\n",
              "      <td>2017-10-05</td>\n",
              "      <td>2</td>\n",
              "      <td>14:53:00</td>\n",
              "      <td>870.0</td>\n",
              "      <td>1740.0</td>\n",
              "      <td>Location 1</td>\n",
              "      <td>2017-10-05</td>\n",
              "      <td>2017-10-05</td>\n",
              "      <td>2017-10-05</td>\n",
              "    </tr>\n",
              "    <tr>\n",
              "      <th>2</th>\n",
              "      <td>4352.0</td>\n",
              "      <td>14614</td>\n",
              "      <td>394422</td>\n",
              "      <td>2017-10-12</td>\n",
              "      <td>2</td>\n",
              "      <td>14:53:00</td>\n",
              "      <td>933.0</td>\n",
              "      <td>1866.0</td>\n",
              "      <td>Location 1</td>\n",
              "      <td>2017-10-12</td>\n",
              "      <td>2017-10-12</td>\n",
              "      <td>2017-10-12</td>\n",
              "    </tr>\n",
              "    <tr>\n",
              "      <th>3</th>\n",
              "      <td>4352.0</td>\n",
              "      <td>85014B</td>\n",
              "      <td>388633</td>\n",
              "      <td>2017-08-22</td>\n",
              "      <td>3</td>\n",
              "      <td>14:47:00</td>\n",
              "      <td>623.0</td>\n",
              "      <td>1869.0</td>\n",
              "      <td>Location 1</td>\n",
              "      <td>2017-08-22</td>\n",
              "      <td>2017-08-22</td>\n",
              "      <td>2017-08-22</td>\n",
              "    </tr>\n",
              "    <tr>\n",
              "      <th>4</th>\n",
              "      <td>4352.0</td>\n",
              "      <td>15364</td>\n",
              "      <td>394422</td>\n",
              "      <td>2017-10-10</td>\n",
              "      <td>2</td>\n",
              "      <td>14:53:00</td>\n",
              "      <td>944.0</td>\n",
              "      <td>1888.0</td>\n",
              "      <td>Location 1</td>\n",
              "      <td>2017-10-10</td>\n",
              "      <td>2017-10-10</td>\n",
              "      <td>2017-10-10</td>\n",
              "    </tr>\n",
              "    <tr>\n",
              "      <th>...</th>\n",
              "      <td>...</td>\n",
              "      <td>...</td>\n",
              "      <td>...</td>\n",
              "      <td>...</td>\n",
              "      <td>...</td>\n",
              "      <td>...</td>\n",
              "      <td>...</td>\n",
              "      <td>...</td>\n",
              "      <td>...</td>\n",
              "      <td>...</td>\n",
              "      <td>...</td>\n",
              "      <td>...</td>\n",
              "    </tr>\n",
              "    <tr>\n",
              "      <th>537936</th>\n",
              "      <td>37.0</td>\n",
              "      <td>14693</td>\n",
              "      <td>402292</td>\n",
              "      <td>2017-11-28</td>\n",
              "      <td>1</td>\n",
              "      <td>12:07:00</td>\n",
              "      <td>384.0</td>\n",
              "      <td>384.0</td>\n",
              "      <td>Location 8</td>\n",
              "      <td>2017-11-28</td>\n",
              "      <td>2017-11-28</td>\n",
              "      <td>2017-11-28</td>\n",
              "    </tr>\n",
              "    <tr>\n",
              "      <th>537937</th>\n",
              "      <td>37.0</td>\n",
              "      <td>14693</td>\n",
              "      <td>402292</td>\n",
              "      <td>2017-11-27</td>\n",
              "      <td>1</td>\n",
              "      <td>12:07:00</td>\n",
              "      <td>398.0</td>\n",
              "      <td>398.0</td>\n",
              "      <td>Location 8</td>\n",
              "      <td>2017-11-27</td>\n",
              "      <td>2017-11-27</td>\n",
              "      <td>2017-11-27</td>\n",
              "    </tr>\n",
              "    <tr>\n",
              "      <th>537938</th>\n",
              "      <td>21.0</td>\n",
              "      <td>77618</td>\n",
              "      <td>363890</td>\n",
              "      <td>2016-12-21</td>\n",
              "      <td>8</td>\n",
              "      <td>12:58:00</td>\n",
              "      <td>308.0</td>\n",
              "      <td>2464.0</td>\n",
              "      <td>Location 8</td>\n",
              "      <td>2016-12-21</td>\n",
              "      <td>2016-12-21</td>\n",
              "      <td>2016-12-21</td>\n",
              "    </tr>\n",
              "    <tr>\n",
              "      <th>537939</th>\n",
              "      <td>21.0</td>\n",
              "      <td>85194L</td>\n",
              "      <td>363890</td>\n",
              "      <td>2016-12-21</td>\n",
              "      <td>36</td>\n",
              "      <td>12:58:00</td>\n",
              "      <td>113.0</td>\n",
              "      <td>4068.0</td>\n",
              "      <td>Location 8</td>\n",
              "      <td>2016-12-21</td>\n",
              "      <td>2016-12-21</td>\n",
              "      <td>2016-12-21</td>\n",
              "    </tr>\n",
              "    <tr>\n",
              "      <th>537940</th>\n",
              "      <td>21.0</td>\n",
              "      <td>14693</td>\n",
              "      <td>363890</td>\n",
              "      <td>2016-12-17</td>\n",
              "      <td>13</td>\n",
              "      <td>12:58:00</td>\n",
              "      <td>380.0</td>\n",
              "      <td>4940.0</td>\n",
              "      <td>Location 8</td>\n",
              "      <td>2016-12-17</td>\n",
              "      <td>2016-12-17</td>\n",
              "      <td>2016-12-17</td>\n",
              "    </tr>\n",
              "  </tbody>\n",
              "</table>\n",
              "<p>404181 rows × 12 columns</p>\n",
              "</div>\n",
              "      <button class=\"colab-df-convert\" onclick=\"convertToInteractive('df-65444096-463f-42e2-bf4b-774686c7b807')\"\n",
              "              title=\"Convert this dataframe to an interactive table.\"\n",
              "              style=\"display:none;\">\n",
              "        \n",
              "  <svg xmlns=\"http://www.w3.org/2000/svg\" height=\"24px\"viewBox=\"0 0 24 24\"\n",
              "       width=\"24px\">\n",
              "    <path d=\"M0 0h24v24H0V0z\" fill=\"none\"/>\n",
              "    <path d=\"M18.56 5.44l.94 2.06.94-2.06 2.06-.94-2.06-.94-.94-2.06-.94 2.06-2.06.94zm-11 1L8.5 8.5l.94-2.06 2.06-.94-2.06-.94L8.5 2.5l-.94 2.06-2.06.94zm10 10l.94 2.06.94-2.06 2.06-.94-2.06-.94-.94-2.06-.94 2.06-2.06.94z\"/><path d=\"M17.41 7.96l-1.37-1.37c-.4-.4-.92-.59-1.43-.59-.52 0-1.04.2-1.43.59L10.3 9.45l-7.72 7.72c-.78.78-.78 2.05 0 2.83L4 21.41c.39.39.9.59 1.41.59.51 0 1.02-.2 1.41-.59l7.78-7.78 2.81-2.81c.8-.78.8-2.07 0-2.86zM5.41 20L4 18.59l7.72-7.72 1.47 1.35L5.41 20z\"/>\n",
              "  </svg>\n",
              "      </button>\n",
              "      \n",
              "  <style>\n",
              "    .colab-df-container {\n",
              "      display:flex;\n",
              "      flex-wrap:wrap;\n",
              "      gap: 12px;\n",
              "    }\n",
              "\n",
              "    .colab-df-convert {\n",
              "      background-color: #E8F0FE;\n",
              "      border: none;\n",
              "      border-radius: 50%;\n",
              "      cursor: pointer;\n",
              "      display: none;\n",
              "      fill: #1967D2;\n",
              "      height: 32px;\n",
              "      padding: 0 0 0 0;\n",
              "      width: 32px;\n",
              "    }\n",
              "\n",
              "    .colab-df-convert:hover {\n",
              "      background-color: #E2EBFA;\n",
              "      box-shadow: 0px 1px 2px rgba(60, 64, 67, 0.3), 0px 1px 3px 1px rgba(60, 64, 67, 0.15);\n",
              "      fill: #174EA6;\n",
              "    }\n",
              "\n",
              "    [theme=dark] .colab-df-convert {\n",
              "      background-color: #3B4455;\n",
              "      fill: #D2E3FC;\n",
              "    }\n",
              "\n",
              "    [theme=dark] .colab-df-convert:hover {\n",
              "      background-color: #434B5C;\n",
              "      box-shadow: 0px 1px 3px 1px rgba(0, 0, 0, 0.15);\n",
              "      filter: drop-shadow(0px 1px 2px rgba(0, 0, 0, 0.3));\n",
              "      fill: #FFFFFF;\n",
              "    }\n",
              "  </style>\n",
              "\n",
              "      <script>\n",
              "        const buttonEl =\n",
              "          document.querySelector('#df-65444096-463f-42e2-bf4b-774686c7b807 button.colab-df-convert');\n",
              "        buttonEl.style.display =\n",
              "          google.colab.kernel.accessAllowed ? 'block' : 'none';\n",
              "\n",
              "        async function convertToInteractive(key) {\n",
              "          const element = document.querySelector('#df-65444096-463f-42e2-bf4b-774686c7b807');\n",
              "          const dataTable =\n",
              "            await google.colab.kernel.invokeFunction('convertToInteractive',\n",
              "                                                     [key], {});\n",
              "          if (!dataTable) return;\n",
              "\n",
              "          const docLinkHtml = 'Like what you see? Visit the ' +\n",
              "            '<a target=\"_blank\" href=https://colab.research.google.com/notebooks/data_table.ipynb>data table notebook</a>'\n",
              "            + ' to learn more about interactive tables.';\n",
              "          element.innerHTML = '';\n",
              "          dataTable['output_type'] = 'display_data';\n",
              "          await google.colab.output.renderOutput(dataTable, element);\n",
              "          const docLink = document.createElement('div');\n",
              "          docLink.innerHTML = docLinkHtml;\n",
              "          element.appendChild(docLink);\n",
              "        }\n",
              "      </script>\n",
              "    </div>\n",
              "  </div>\n",
              "  "
            ]
          },
          "metadata": {},
          "execution_count": 55
        }
      ]
    },
    {
      "cell_type": "code",
      "source": [
        "# recency = Latest Date -  last invoice data\n",
        "#latest date = todays 's date or \n",
        "\n",
        "#frequenc of invoice n. of the transction done by customer\n",
        "\n",
        "#monetary = Sum of total amount purchase by custome\n",
        "\n",
        "max(df2['Date of purchase'])\n"
      ],
      "metadata": {
        "colab": {
          "base_uri": "https://localhost:8080/"
        },
        "id": "-bI428Fknlxn",
        "outputId": "a9ca8d14-d266-49ed-ffd9-26ddf385d545"
      },
      "execution_count": 56,
      "outputs": [
        {
          "output_type": "execute_result",
          "data": {
            "text/plain": [
              "Timestamp('2017-12-19 00:00:00')"
            ]
          },
          "metadata": {},
          "execution_count": 56
        }
      ]
    },
    {
      "cell_type": "code",
      "source": [
        "#last date = 2017- 12-19\n",
        "#latest date = 2017-12-20\n",
        "\n",
        "import datetime as dt\n",
        "latest_date = dt.datetime(2017,12,20)"
      ],
      "metadata": {
        "id": "_Y3yJn_brU5c"
      },
      "execution_count": 57,
      "outputs": []
    },
    {
      "cell_type": "code",
      "source": [
        "latest_date"
      ],
      "metadata": {
        "colab": {
          "base_uri": "https://localhost:8080/"
        },
        "id": "orgyGK9gsCLG",
        "outputId": "e1454409-c922-4e62-ee59-ed84bd891151"
      },
      "execution_count": 58,
      "outputs": [
        {
          "output_type": "execute_result",
          "data": {
            "text/plain": [
              "datetime.datetime(2017, 12, 20, 0, 0)"
            ]
          },
          "metadata": {},
          "execution_count": 58
        }
      ]
    },
    {
      "cell_type": "code",
      "source": [
        "# create RMF model by each customer\n",
        "\n",
        "RMFScore = df2.groupby('CustomerID').agg({'Date': lambda x :(latest_date - x.max()).days,\n",
        "                                          'Date' : lambda x : x.nunique(), \n",
        "                                         'price': lambda x : x.sum()})"
      ],
      "metadata": {
        "colab": {
          "base_uri": "https://localhost:8080/",
          "height": 346
        },
        "id": "YcnvTtWRsDh8",
        "outputId": "4d7a154d-9c7e-4f66-9749-0a241fde57c3"
      },
      "execution_count": 59,
      "outputs": [
        {
          "output_type": "error",
          "ename": "KeyError",
          "evalue": "ignored",
          "traceback": [
            "\u001b[0;31m---------------------------------------------------------------------------\u001b[0m",
            "\u001b[0;31mKeyError\u001b[0m                                  Traceback (most recent call last)",
            "\u001b[0;32m<ipython-input-59-93f50f53cc58>\u001b[0m in \u001b[0;36m<module>\u001b[0;34m()\u001b[0m\n\u001b[1;32m      3\u001b[0m RMFScore = df2.groupby('CustomerID').agg({'Date': lambda x :(latest_date - x.max()).days,\n\u001b[1;32m      4\u001b[0m                                          \u001b[0;34m'Date'\u001b[0m \u001b[0;34m:\u001b[0m \u001b[0;32mlambda\u001b[0m \u001b[0mx\u001b[0m \u001b[0;34m:\u001b[0m \u001b[0mx\u001b[0m\u001b[0;34m.\u001b[0m\u001b[0mnunique\u001b[0m\u001b[0;34m(\u001b[0m\u001b[0;34m)\u001b[0m\u001b[0;34m,\u001b[0m\u001b[0;34m\u001b[0m\u001b[0;34m\u001b[0m\u001b[0m\n\u001b[0;32m----> 5\u001b[0;31m                                          'price': lambda x : x.sum()})\n\u001b[0m",
            "\u001b[0;32m/usr/local/lib/python3.7/dist-packages/pandas/core/groupby/generic.py\u001b[0m in \u001b[0;36maggregate\u001b[0;34m(self, func, engine, engine_kwargs, *args, **kwargs)\u001b[0m\n\u001b[1;32m    977\u001b[0m \u001b[0;34m\u001b[0m\u001b[0m\n\u001b[1;32m    978\u001b[0m         \u001b[0mop\u001b[0m \u001b[0;34m=\u001b[0m \u001b[0mGroupByApply\u001b[0m\u001b[0;34m(\u001b[0m\u001b[0mself\u001b[0m\u001b[0;34m,\u001b[0m \u001b[0mfunc\u001b[0m\u001b[0;34m,\u001b[0m \u001b[0margs\u001b[0m\u001b[0;34m,\u001b[0m \u001b[0mkwargs\u001b[0m\u001b[0;34m)\u001b[0m\u001b[0;34m\u001b[0m\u001b[0;34m\u001b[0m\u001b[0m\n\u001b[0;32m--> 979\u001b[0;31m         \u001b[0mresult\u001b[0m \u001b[0;34m=\u001b[0m \u001b[0mop\u001b[0m\u001b[0;34m.\u001b[0m\u001b[0magg\u001b[0m\u001b[0;34m(\u001b[0m\u001b[0;34m)\u001b[0m\u001b[0;34m\u001b[0m\u001b[0;34m\u001b[0m\u001b[0m\n\u001b[0m\u001b[1;32m    980\u001b[0m         \u001b[0;32mif\u001b[0m \u001b[0;32mnot\u001b[0m \u001b[0mis_dict_like\u001b[0m\u001b[0;34m(\u001b[0m\u001b[0mfunc\u001b[0m\u001b[0;34m)\u001b[0m \u001b[0;32mand\u001b[0m \u001b[0mresult\u001b[0m \u001b[0;32mis\u001b[0m \u001b[0;32mnot\u001b[0m \u001b[0;32mNone\u001b[0m\u001b[0;34m:\u001b[0m\u001b[0;34m\u001b[0m\u001b[0;34m\u001b[0m\u001b[0m\n\u001b[1;32m    981\u001b[0m             \u001b[0;32mreturn\u001b[0m \u001b[0mresult\u001b[0m\u001b[0;34m\u001b[0m\u001b[0;34m\u001b[0m\u001b[0m\n",
            "\u001b[0;32m/usr/local/lib/python3.7/dist-packages/pandas/core/apply.py\u001b[0m in \u001b[0;36magg\u001b[0;34m(self)\u001b[0m\n\u001b[1;32m    159\u001b[0m \u001b[0;34m\u001b[0m\u001b[0m\n\u001b[1;32m    160\u001b[0m         \u001b[0;32mif\u001b[0m \u001b[0mis_dict_like\u001b[0m\u001b[0;34m(\u001b[0m\u001b[0marg\u001b[0m\u001b[0;34m)\u001b[0m\u001b[0;34m:\u001b[0m\u001b[0;34m\u001b[0m\u001b[0;34m\u001b[0m\u001b[0m\n\u001b[0;32m--> 161\u001b[0;31m             \u001b[0;32mreturn\u001b[0m \u001b[0mself\u001b[0m\u001b[0;34m.\u001b[0m\u001b[0magg_dict_like\u001b[0m\u001b[0;34m(\u001b[0m\u001b[0;34m)\u001b[0m\u001b[0;34m\u001b[0m\u001b[0;34m\u001b[0m\u001b[0m\n\u001b[0m\u001b[1;32m    162\u001b[0m         \u001b[0;32melif\u001b[0m \u001b[0mis_list_like\u001b[0m\u001b[0;34m(\u001b[0m\u001b[0marg\u001b[0m\u001b[0;34m)\u001b[0m\u001b[0;34m:\u001b[0m\u001b[0;34m\u001b[0m\u001b[0;34m\u001b[0m\u001b[0m\n\u001b[1;32m    163\u001b[0m             \u001b[0;31m# we require a list, but not a 'str'\u001b[0m\u001b[0;34m\u001b[0m\u001b[0;34m\u001b[0m\u001b[0;34m\u001b[0m\u001b[0m\n",
            "\u001b[0;32m/usr/local/lib/python3.7/dist-packages/pandas/core/apply.py\u001b[0m in \u001b[0;36magg_dict_like\u001b[0;34m(self)\u001b[0m\n\u001b[1;32m    425\u001b[0m             \u001b[0mselection\u001b[0m \u001b[0;34m=\u001b[0m \u001b[0mobj\u001b[0m\u001b[0;34m.\u001b[0m\u001b[0m_selection\u001b[0m\u001b[0;34m\u001b[0m\u001b[0;34m\u001b[0m\u001b[0m\n\u001b[1;32m    426\u001b[0m \u001b[0;34m\u001b[0m\u001b[0m\n\u001b[0;32m--> 427\u001b[0;31m         \u001b[0marg\u001b[0m \u001b[0;34m=\u001b[0m \u001b[0mself\u001b[0m\u001b[0;34m.\u001b[0m\u001b[0mnormalize_dictlike_arg\u001b[0m\u001b[0;34m(\u001b[0m\u001b[0;34m\"agg\"\u001b[0m\u001b[0;34m,\u001b[0m \u001b[0mselected_obj\u001b[0m\u001b[0;34m,\u001b[0m \u001b[0marg\u001b[0m\u001b[0;34m)\u001b[0m\u001b[0;34m\u001b[0m\u001b[0;34m\u001b[0m\u001b[0m\n\u001b[0m\u001b[1;32m    428\u001b[0m \u001b[0;34m\u001b[0m\u001b[0m\n\u001b[1;32m    429\u001b[0m         \u001b[0;32mif\u001b[0m \u001b[0mselected_obj\u001b[0m\u001b[0;34m.\u001b[0m\u001b[0mndim\u001b[0m \u001b[0;34m==\u001b[0m \u001b[0;36m1\u001b[0m\u001b[0;34m:\u001b[0m\u001b[0;34m\u001b[0m\u001b[0;34m\u001b[0m\u001b[0m\n",
            "\u001b[0;32m/usr/local/lib/python3.7/dist-packages/pandas/core/apply.py\u001b[0m in \u001b[0;36mnormalize_dictlike_arg\u001b[0;34m(self, how, obj, func)\u001b[0m\n\u001b[1;32m    544\u001b[0m             \u001b[0;32mif\u001b[0m \u001b[0mlen\u001b[0m\u001b[0;34m(\u001b[0m\u001b[0mcols\u001b[0m\u001b[0;34m)\u001b[0m \u001b[0;34m>\u001b[0m \u001b[0;36m0\u001b[0m\u001b[0;34m:\u001b[0m\u001b[0;34m\u001b[0m\u001b[0;34m\u001b[0m\u001b[0m\n\u001b[1;32m    545\u001b[0m                 \u001b[0mcols_sorted\u001b[0m \u001b[0;34m=\u001b[0m \u001b[0mlist\u001b[0m\u001b[0;34m(\u001b[0m\u001b[0msafe_sort\u001b[0m\u001b[0;34m(\u001b[0m\u001b[0mlist\u001b[0m\u001b[0;34m(\u001b[0m\u001b[0mcols\u001b[0m\u001b[0;34m)\u001b[0m\u001b[0;34m)\u001b[0m\u001b[0;34m)\u001b[0m\u001b[0;34m\u001b[0m\u001b[0;34m\u001b[0m\u001b[0m\n\u001b[0;32m--> 546\u001b[0;31m                 \u001b[0;32mraise\u001b[0m \u001b[0mKeyError\u001b[0m\u001b[0;34m(\u001b[0m\u001b[0;34mf\"Column(s) {cols_sorted} do not exist\"\u001b[0m\u001b[0;34m)\u001b[0m\u001b[0;34m\u001b[0m\u001b[0;34m\u001b[0m\u001b[0m\n\u001b[0m\u001b[1;32m    547\u001b[0m \u001b[0;34m\u001b[0m\u001b[0m\n\u001b[1;32m    548\u001b[0m         \u001b[0mis_aggregator\u001b[0m \u001b[0;34m=\u001b[0m \u001b[0;32mlambda\u001b[0m \u001b[0mx\u001b[0m\u001b[0;34m:\u001b[0m \u001b[0misinstance\u001b[0m\u001b[0;34m(\u001b[0m\u001b[0mx\u001b[0m\u001b[0;34m,\u001b[0m \u001b[0;34m(\u001b[0m\u001b[0mlist\u001b[0m\u001b[0;34m,\u001b[0m \u001b[0mtuple\u001b[0m\u001b[0;34m,\u001b[0m \u001b[0mdict\u001b[0m\u001b[0;34m)\u001b[0m\u001b[0;34m)\u001b[0m\u001b[0;34m\u001b[0m\u001b[0;34m\u001b[0m\u001b[0m\n",
            "\u001b[0;31mKeyError\u001b[0m: \"Column(s) ['price'] do not exist\""
          ]
        }
      ]
    },
    {
      "cell_type": "code",
      "source": [
        "RMFScore['Date'] = RMFScore['Date'].astype(int)\n",
        "RMFScore.rename (columns = {'Date1' : 'Recency' , 'Date' : 'Frequency', 'Date3' : 'Monetory'},\n",
        "                 inplace= True)\n",
        "\n",
        "RMFScore.reset_index().head()"
      ],
      "metadata": {
        "colab": {
          "base_uri": "https://localhost:8080/",
          "height": 235
        },
        "id": "H6G826HIxqwP",
        "outputId": "d2873847-b8c6-4876-ef7f-edf7752dc3ec"
      },
      "execution_count": 66,
      "outputs": [
        {
          "output_type": "error",
          "ename": "NameError",
          "evalue": "ignored",
          "traceback": [
            "\u001b[0;31m---------------------------------------------------------------------------\u001b[0m",
            "\u001b[0;31mNameError\u001b[0m                                 Traceback (most recent call last)",
            "\u001b[0;32m<ipython-input-66-ded40ed27d6a>\u001b[0m in \u001b[0;36m<module>\u001b[0;34m()\u001b[0m\n\u001b[0;32m----> 1\u001b[0;31m \u001b[0mRMFScore\u001b[0m\u001b[0;34m[\u001b[0m\u001b[0;34m'Date'\u001b[0m\u001b[0;34m]\u001b[0m \u001b[0;34m=\u001b[0m \u001b[0mRMFScore\u001b[0m\u001b[0;34m[\u001b[0m\u001b[0;34m'Date'\u001b[0m\u001b[0;34m]\u001b[0m\u001b[0;34m.\u001b[0m\u001b[0mastype\u001b[0m\u001b[0;34m(\u001b[0m\u001b[0mint\u001b[0m\u001b[0;34m)\u001b[0m\u001b[0;34m\u001b[0m\u001b[0;34m\u001b[0m\u001b[0m\n\u001b[0m\u001b[1;32m      2\u001b[0m RMFScore.rename (columns = {'Date1' : 'Recency' , 'Date' : 'Frequency', 'Date3' : 'Monetory'},\n\u001b[1;32m      3\u001b[0m                  inplace= True)\n\u001b[1;32m      4\u001b[0m \u001b[0;34m\u001b[0m\u001b[0m\n\u001b[1;32m      5\u001b[0m \u001b[0mRMFScore\u001b[0m\u001b[0;34m.\u001b[0m\u001b[0mreset_index\u001b[0m\u001b[0;34m(\u001b[0m\u001b[0;34m)\u001b[0m\u001b[0;34m.\u001b[0m\u001b[0mhead\u001b[0m\u001b[0;34m(\u001b[0m\u001b[0;34m)\u001b[0m\u001b[0;34m\u001b[0m\u001b[0;34m\u001b[0m\u001b[0m\n",
            "\u001b[0;31mNameError\u001b[0m: name 'RMFScore' is not defined"
          ]
        }
      ]
    },
    {
      "cell_type": "code",
      "source": [
        "RMFScore = df2.groupby('CustomerID').agg({'Recency': lambda x : (latest_date - x.max()).days,\n",
        "                                         'Frequency' : lambda x : x.nunique(), \n",
        "                                         'Monetory': lambda x : x.sum()})"
      ],
      "metadata": {
        "colab": {
          "base_uri": "https://localhost:8080/",
          "height": 346
        },
        "id": "IJhQyLtAtJ67",
        "outputId": "2ccff196-02de-4e26-f4dc-273197660f48"
      },
      "execution_count": 65,
      "outputs": [
        {
          "output_type": "error",
          "ename": "KeyError",
          "evalue": "ignored",
          "traceback": [
            "\u001b[0;31m---------------------------------------------------------------------------\u001b[0m",
            "\u001b[0;31mKeyError\u001b[0m                                  Traceback (most recent call last)",
            "\u001b[0;32m<ipython-input-65-1b6519e715cc>\u001b[0m in \u001b[0;36m<module>\u001b[0;34m()\u001b[0m\n\u001b[1;32m      1\u001b[0m RMFScore = df2.groupby('CustomerID').agg({'Recency': lambda x : (latest_date - x.max()).days,\n\u001b[1;32m      2\u001b[0m                                          \u001b[0;34m'Frequency'\u001b[0m \u001b[0;34m:\u001b[0m \u001b[0;32mlambda\u001b[0m \u001b[0mx\u001b[0m \u001b[0;34m:\u001b[0m \u001b[0mx\u001b[0m\u001b[0;34m.\u001b[0m\u001b[0mnunique\u001b[0m\u001b[0;34m(\u001b[0m\u001b[0;34m)\u001b[0m\u001b[0;34m,\u001b[0m\u001b[0;34m\u001b[0m\u001b[0;34m\u001b[0m\u001b[0m\n\u001b[0;32m----> 3\u001b[0;31m                                          'Monetory': lambda x : x.sum()})\n\u001b[0m",
            "\u001b[0;32m/usr/local/lib/python3.7/dist-packages/pandas/core/groupby/generic.py\u001b[0m in \u001b[0;36maggregate\u001b[0;34m(self, func, engine, engine_kwargs, *args, **kwargs)\u001b[0m\n\u001b[1;32m    977\u001b[0m \u001b[0;34m\u001b[0m\u001b[0m\n\u001b[1;32m    978\u001b[0m         \u001b[0mop\u001b[0m \u001b[0;34m=\u001b[0m \u001b[0mGroupByApply\u001b[0m\u001b[0;34m(\u001b[0m\u001b[0mself\u001b[0m\u001b[0;34m,\u001b[0m \u001b[0mfunc\u001b[0m\u001b[0;34m,\u001b[0m \u001b[0margs\u001b[0m\u001b[0;34m,\u001b[0m \u001b[0mkwargs\u001b[0m\u001b[0;34m)\u001b[0m\u001b[0;34m\u001b[0m\u001b[0;34m\u001b[0m\u001b[0m\n\u001b[0;32m--> 979\u001b[0;31m         \u001b[0mresult\u001b[0m \u001b[0;34m=\u001b[0m \u001b[0mop\u001b[0m\u001b[0;34m.\u001b[0m\u001b[0magg\u001b[0m\u001b[0;34m(\u001b[0m\u001b[0;34m)\u001b[0m\u001b[0;34m\u001b[0m\u001b[0;34m\u001b[0m\u001b[0m\n\u001b[0m\u001b[1;32m    980\u001b[0m         \u001b[0;32mif\u001b[0m \u001b[0;32mnot\u001b[0m \u001b[0mis_dict_like\u001b[0m\u001b[0;34m(\u001b[0m\u001b[0mfunc\u001b[0m\u001b[0;34m)\u001b[0m \u001b[0;32mand\u001b[0m \u001b[0mresult\u001b[0m \u001b[0;32mis\u001b[0m \u001b[0;32mnot\u001b[0m \u001b[0;32mNone\u001b[0m\u001b[0;34m:\u001b[0m\u001b[0;34m\u001b[0m\u001b[0;34m\u001b[0m\u001b[0m\n\u001b[1;32m    981\u001b[0m             \u001b[0;32mreturn\u001b[0m \u001b[0mresult\u001b[0m\u001b[0;34m\u001b[0m\u001b[0;34m\u001b[0m\u001b[0m\n",
            "\u001b[0;32m/usr/local/lib/python3.7/dist-packages/pandas/core/apply.py\u001b[0m in \u001b[0;36magg\u001b[0;34m(self)\u001b[0m\n\u001b[1;32m    159\u001b[0m \u001b[0;34m\u001b[0m\u001b[0m\n\u001b[1;32m    160\u001b[0m         \u001b[0;32mif\u001b[0m \u001b[0mis_dict_like\u001b[0m\u001b[0;34m(\u001b[0m\u001b[0marg\u001b[0m\u001b[0;34m)\u001b[0m\u001b[0;34m:\u001b[0m\u001b[0;34m\u001b[0m\u001b[0;34m\u001b[0m\u001b[0m\n\u001b[0;32m--> 161\u001b[0;31m             \u001b[0;32mreturn\u001b[0m \u001b[0mself\u001b[0m\u001b[0;34m.\u001b[0m\u001b[0magg_dict_like\u001b[0m\u001b[0;34m(\u001b[0m\u001b[0;34m)\u001b[0m\u001b[0;34m\u001b[0m\u001b[0;34m\u001b[0m\u001b[0m\n\u001b[0m\u001b[1;32m    162\u001b[0m         \u001b[0;32melif\u001b[0m \u001b[0mis_list_like\u001b[0m\u001b[0;34m(\u001b[0m\u001b[0marg\u001b[0m\u001b[0;34m)\u001b[0m\u001b[0;34m:\u001b[0m\u001b[0;34m\u001b[0m\u001b[0;34m\u001b[0m\u001b[0m\n\u001b[1;32m    163\u001b[0m             \u001b[0;31m# we require a list, but not a 'str'\u001b[0m\u001b[0;34m\u001b[0m\u001b[0;34m\u001b[0m\u001b[0;34m\u001b[0m\u001b[0m\n",
            "\u001b[0;32m/usr/local/lib/python3.7/dist-packages/pandas/core/apply.py\u001b[0m in \u001b[0;36magg_dict_like\u001b[0;34m(self)\u001b[0m\n\u001b[1;32m    425\u001b[0m             \u001b[0mselection\u001b[0m \u001b[0;34m=\u001b[0m \u001b[0mobj\u001b[0m\u001b[0;34m.\u001b[0m\u001b[0m_selection\u001b[0m\u001b[0;34m\u001b[0m\u001b[0;34m\u001b[0m\u001b[0m\n\u001b[1;32m    426\u001b[0m \u001b[0;34m\u001b[0m\u001b[0m\n\u001b[0;32m--> 427\u001b[0;31m         \u001b[0marg\u001b[0m \u001b[0;34m=\u001b[0m \u001b[0mself\u001b[0m\u001b[0;34m.\u001b[0m\u001b[0mnormalize_dictlike_arg\u001b[0m\u001b[0;34m(\u001b[0m\u001b[0;34m\"agg\"\u001b[0m\u001b[0;34m,\u001b[0m \u001b[0mselected_obj\u001b[0m\u001b[0;34m,\u001b[0m \u001b[0marg\u001b[0m\u001b[0;34m)\u001b[0m\u001b[0;34m\u001b[0m\u001b[0;34m\u001b[0m\u001b[0m\n\u001b[0m\u001b[1;32m    428\u001b[0m \u001b[0;34m\u001b[0m\u001b[0m\n\u001b[1;32m    429\u001b[0m         \u001b[0;32mif\u001b[0m \u001b[0mselected_obj\u001b[0m\u001b[0;34m.\u001b[0m\u001b[0mndim\u001b[0m \u001b[0;34m==\u001b[0m \u001b[0;36m1\u001b[0m\u001b[0;34m:\u001b[0m\u001b[0;34m\u001b[0m\u001b[0;34m\u001b[0m\u001b[0m\n",
            "\u001b[0;32m/usr/local/lib/python3.7/dist-packages/pandas/core/apply.py\u001b[0m in \u001b[0;36mnormalize_dictlike_arg\u001b[0;34m(self, how, obj, func)\u001b[0m\n\u001b[1;32m    544\u001b[0m             \u001b[0;32mif\u001b[0m \u001b[0mlen\u001b[0m\u001b[0;34m(\u001b[0m\u001b[0mcols\u001b[0m\u001b[0;34m)\u001b[0m \u001b[0;34m>\u001b[0m \u001b[0;36m0\u001b[0m\u001b[0;34m:\u001b[0m\u001b[0;34m\u001b[0m\u001b[0;34m\u001b[0m\u001b[0m\n\u001b[1;32m    545\u001b[0m                 \u001b[0mcols_sorted\u001b[0m \u001b[0;34m=\u001b[0m \u001b[0mlist\u001b[0m\u001b[0;34m(\u001b[0m\u001b[0msafe_sort\u001b[0m\u001b[0;34m(\u001b[0m\u001b[0mlist\u001b[0m\u001b[0;34m(\u001b[0m\u001b[0mcols\u001b[0m\u001b[0;34m)\u001b[0m\u001b[0;34m)\u001b[0m\u001b[0;34m)\u001b[0m\u001b[0;34m\u001b[0m\u001b[0;34m\u001b[0m\u001b[0m\n\u001b[0;32m--> 546\u001b[0;31m                 \u001b[0;32mraise\u001b[0m \u001b[0mKeyError\u001b[0m\u001b[0;34m(\u001b[0m\u001b[0;34mf\"Column(s) {cols_sorted} do not exist\"\u001b[0m\u001b[0;34m)\u001b[0m\u001b[0;34m\u001b[0m\u001b[0;34m\u001b[0m\u001b[0m\n\u001b[0m\u001b[1;32m    547\u001b[0m \u001b[0;34m\u001b[0m\u001b[0m\n\u001b[1;32m    548\u001b[0m         \u001b[0mis_aggregator\u001b[0m \u001b[0;34m=\u001b[0m \u001b[0;32mlambda\u001b[0m \u001b[0mx\u001b[0m\u001b[0;34m:\u001b[0m \u001b[0misinstance\u001b[0m\u001b[0;34m(\u001b[0m\u001b[0mx\u001b[0m\u001b[0;34m,\u001b[0m \u001b[0;34m(\u001b[0m\u001b[0mlist\u001b[0m\u001b[0;34m,\u001b[0m \u001b[0mtuple\u001b[0m\u001b[0;34m,\u001b[0m \u001b[0mdict\u001b[0m\u001b[0;34m)\u001b[0m\u001b[0;34m)\u001b[0m\u001b[0;34m\u001b[0m\u001b[0;34m\u001b[0m\u001b[0m\n",
            "\u001b[0;31mKeyError\u001b[0m: \"Column(s) ['Frequency', 'Monetory', 'Recency'] do not exist\""
          ]
        }
      ]
    },
    {
      "cell_type": "code",
      "source": [
        ""
      ],
      "metadata": {
        "id": "xkHyJ7Z2tXVq"
      },
      "execution_count": null,
      "outputs": []
    }
  ]
}