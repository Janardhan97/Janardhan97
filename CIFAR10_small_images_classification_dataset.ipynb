{
  "nbformat": 4,
  "nbformat_minor": 0,
  "metadata": {
    "colab": {
      "name": "CIFAR10 small images classification dataset.ipynb",
      "provenance": [],
      "collapsed_sections": [],
      "authorship_tag": "ABX9TyPJ1xJ1qOqFKy8rfYeV17n2",
      "include_colab_link": true
    },
    "kernelspec": {
      "name": "python3",
      "display_name": "Python 3"
    },
    "language_info": {
      "name": "python"
    }
  },
  "cells": [
    {
      "cell_type": "markdown",
      "metadata": {
        "id": "view-in-github",
        "colab_type": "text"
      },
      "source": [
        "<a href=\"https://colab.research.google.com/github/Janardhan97/Janardhan97/blob/main/CIFAR10_small_images_classification_dataset.ipynb\" target=\"_parent\"><img src=\"https://colab.research.google.com/assets/colab-badge.svg\" alt=\"Open In Colab\"/></a>"
      ]
    },
    {
      "cell_type": "code",
      "execution_count": null,
      "metadata": {
        "id": "a0p3F_x_0z59"
      },
      "outputs": [],
      "source": [
        ""
      ]
    },
    {
      "cell_type": "code",
      "source": [
        "import numpy as np\n",
        "import pandas as pd\n",
        "from sklearn.preprocessing import StandardScaler\n",
        "import matplotlib.pyplot as plt\n",
        "import seaborn as sns\n",
        "%matplotlib inline"
      ],
      "metadata": {
        "id": "y-65j-Ug1qIo"
      },
      "execution_count": 1,
      "outputs": []
    },
    {
      "cell_type": "code",
      "source": [
        "# basic package for --DL\n",
        "\n",
        "import tensorflow as tf\n",
        "from tensorflow import keras"
      ],
      "metadata": {
        "id": "YYSz4iTj1qMC"
      },
      "execution_count": 2,
      "outputs": []
    },
    {
      "cell_type": "code",
      "source": [
        "cifar_dataset = keras.datasets.cifar10\n",
        "cifar_dataset"
      ],
      "metadata": {
        "colab": {
          "base_uri": "https://localhost:8080/"
        },
        "id": "sYGuCVef1vUY",
        "outputId": "7a002fe0-63e5-46c3-f366-c929439c2ab0"
      },
      "execution_count": 3,
      "outputs": [
        {
          "output_type": "execute_result",
          "data": {
            "text/plain": [
              "<module 'keras.api._v2.keras.datasets.cifar10' from '/usr/local/lib/python3.7/dist-packages/keras/api/_v2/keras/datasets/cifar10/__init__.py'>"
            ]
          },
          "metadata": {},
          "execution_count": 3
        }
      ]
    },
    {
      "cell_type": "code",
      "source": [
        "(train_image , train_labels), (test_image, test_labels) =  cifar_dataset.load_data()"
      ],
      "metadata": {
        "colab": {
          "base_uri": "https://localhost:8080/"
        },
        "id": "jSsku4zg2oko",
        "outputId": "504b335d-32c3-42c2-c79d-b016a63df0b4"
      },
      "execution_count": 4,
      "outputs": [
        {
          "output_type": "stream",
          "name": "stdout",
          "text": [
            "Downloading data from https://www.cs.toronto.edu/~kriz/cifar-10-python.tar.gz\n",
            "170500096/170498071 [==============================] - 12s 0us/step\n",
            "170508288/170498071 [==============================] - 12s 0us/step\n"
          ]
        }
      ]
    },
    {
      "cell_type": "code",
      "source": [
        "train_image.shape"
      ],
      "metadata": {
        "colab": {
          "base_uri": "https://localhost:8080/"
        },
        "id": "43ropHRO3PeK",
        "outputId": "0d0591f8-fec6-4923-9eec-765481335287"
      },
      "execution_count": 5,
      "outputs": [
        {
          "output_type": "execute_result",
          "data": {
            "text/plain": [
              "(50000, 32, 32, 3)"
            ]
          },
          "metadata": {},
          "execution_count": 5
        }
      ]
    },
    {
      "cell_type": "code",
      "source": [
        "train_labels.shape"
      ],
      "metadata": {
        "colab": {
          "base_uri": "https://localhost:8080/"
        },
        "id": "fuEIDZjK3kmH",
        "outputId": "1d5c5c4a-ba4f-47ac-ec0f-b286f00f73f7"
      },
      "execution_count": 6,
      "outputs": [
        {
          "output_type": "execute_result",
          "data": {
            "text/plain": [
              "(50000, 1)"
            ]
          },
          "metadata": {},
          "execution_count": 6
        }
      ]
    },
    {
      "cell_type": "code",
      "source": [
        "test_image.shape"
      ],
      "metadata": {
        "colab": {
          "base_uri": "https://localhost:8080/"
        },
        "id": "Z9PTeDeP3oTN",
        "outputId": "4dbddc12-bfe3-43d5-dc1d-99389d8b5a80"
      },
      "execution_count": 7,
      "outputs": [
        {
          "output_type": "execute_result",
          "data": {
            "text/plain": [
              "(10000, 32, 32, 3)"
            ]
          },
          "metadata": {},
          "execution_count": 7
        }
      ]
    },
    {
      "cell_type": "code",
      "source": [
        "test_labels.shape"
      ],
      "metadata": {
        "colab": {
          "base_uri": "https://localhost:8080/"
        },
        "id": "bO3yPLko3tF_",
        "outputId": "bc9ea441-fafe-491d-92ff-a14a6681fd9d"
      },
      "execution_count": 8,
      "outputs": [
        {
          "output_type": "execute_result",
          "data": {
            "text/plain": [
              "(10000, 1)"
            ]
          },
          "metadata": {},
          "execution_count": 8
        }
      ]
    },
    {
      "cell_type": "code",
      "source": [
        "\n",
        "# Label\tDescription\n",
        "# 0\tairplane\n",
        "# 1\tautomobile\n",
        "# 2\tbird\n",
        "# 3\tcat\n",
        "# 4\tdeer\n",
        "# 5\tdog\n",
        "# 6\tfrog\n",
        "# 7\thorse\n",
        "# 8\tship\n",
        "# 9\ttruck"
      ],
      "metadata": {
        "id": "EC0f5BDF3wyK"
      },
      "execution_count": 9,
      "outputs": []
    },
    {
      "cell_type": "code",
      "source": [
        "class_names = ['airplane','automobile', 'bird', 'cat' , 'deer', 'dog' , 'frog', 'horse', 'ship', 'truck']"
      ],
      "metadata": {
        "id": "gOP_UOmG37KH"
      },
      "execution_count": 10,
      "outputs": []
    },
    {
      "cell_type": "code",
      "source": [
        "class_names"
      ],
      "metadata": {
        "colab": {
          "base_uri": "https://localhost:8080/"
        },
        "id": "fG2glbxr4Wm1",
        "outputId": "69065187-c736-4ab0-f17a-7b36eda82b21"
      },
      "execution_count": 11,
      "outputs": [
        {
          "output_type": "execute_result",
          "data": {
            "text/plain": [
              "['airplane',\n",
              " 'automobile',\n",
              " 'bird',\n",
              " 'cat',\n",
              " 'deer',\n",
              " 'dog',\n",
              " 'frog',\n",
              " 'horse',\n",
              " 'ship',\n",
              " 'truck']"
            ]
          },
          "metadata": {},
          "execution_count": 11
        }
      ]
    },
    {
      "cell_type": "code",
      "source": [
        "plt.figure()\n",
        "plt.imshow(train_image[255])"
      ],
      "metadata": {
        "colab": {
          "base_uri": "https://localhost:8080/",
          "height": 283
        },
        "id": "plrljKJl4YVd",
        "outputId": "6dfe7830-9abf-479e-df5c-3ad231f6f03c"
      },
      "execution_count": 12,
      "outputs": [
        {
          "output_type": "execute_result",
          "data": {
            "text/plain": [
              "<matplotlib.image.AxesImage at 0x7f85e736af90>"
            ]
          },
          "metadata": {},
          "execution_count": 12
        },
        {
          "output_type": "display_data",
          "data": {
            "text/plain": [
              "<Figure size 432x288 with 1 Axes>"
            ],
            "image/png": "[encoded data removed]"
          },
          "metadata": {
            "needs_background": "light"
          }
        }
      ]
    },
    {
      "cell_type": "code",
      "source": [
        "plt.figure()\n",
        "plt.imshow(train_image[31000])\n",
        "plt.colorbar()\n",
        "plt.grid(False)\n",
        "plt.show"
      ],
      "metadata": {
        "colab": {
          "base_uri": "https://localhost:8080/",
          "height": 283
        },
        "id": "eaGOSqc-4qJu",
        "outputId": "def4ad75-f124-4222-cddc-2d4e0fab96d9"
      },
      "execution_count": 13,
      "outputs": [
        {
          "output_type": "execute_result",
          "data": {
            "text/plain": [
              "<function matplotlib.pyplot.show>"
            ]
          },
          "metadata": {},
          "execution_count": 13
        },
        {
          "output_type": "display_data",
          "data": {
            "text/plain": [
              "<Figure size 432x288 with 2 Axes>"
            ],
            "image/png": "[encoded data removed]"
          },
          "metadata": {
            "needs_background": "light"
          }
        }
      ]
    },
    {
      "cell_type": "code",
      "source": [
        "plt.figure()\n",
        "plt.imshow(train_image[31000])\n",
        "plt.colorbar()\n",
        "plt.grid(True)\n",
        "plt.show()"
      ],
      "metadata": {
        "colab": {
          "base_uri": "https://localhost:8080/",
          "height": 266
        },
        "id": "O3E_-Syw5DWM",
        "outputId": "b467677b-8c89-4963-9493-807553a3014c"
      },
      "execution_count": 14,
      "outputs": [
        {
          "output_type": "display_data",
          "data": {
            "text/plain": [
              "<Figure size 432x288 with 2 Axes>"
            ],
            "image/png": "[encoded data removed]"
          },
          "metadata": {
            "needs_background": "light"
          }
        }
      ]
    },
    {
      "cell_type": "code",
      "source": [
        "#scaling approach data normailization\n",
        "\n",
        "train_image = train_image / 255.0\n",
        "test_image = test_image / 255.0"
      ],
      "metadata": {
        "id": "3O_K_tKG5JSO"
      },
      "execution_count": 15,
      "outputs": []
    },
    {
      "cell_type": "code",
      "source": [
        "plt.figure()\n",
        "plt.imshow(train_image[30520])\n",
        "plt.colorbar()\n",
        "plt.grid(False)\n",
        "plt.show()"
      ],
      "metadata": {
        "colab": {
          "base_uri": "https://localhost:8080/",
          "height": 269
        },
        "id": "0ci2Ut1J5nsS",
        "outputId": "539f90cc-1902-4fe4-867c-1af5e68fe7d5"
      },
      "execution_count": 16,
      "outputs": [
        {
          "output_type": "display_data",
          "data": {
            "text/plain": [
              "<Figure size 432x288 with 2 Axes>"
            ],
            "image/png": "[encoded data removed]"
          },
          "metadata": {
            "needs_background": "light"
          }
        }
      ]
    },
    {
      "cell_type": "code",
      "source": [
        "plt.figure()\n",
        "plt.imshow(train_image[31520])\n",
        "plt.colorbar()\n",
        "plt.grid(False)\n",
        "plt.show()"
      ],
      "metadata": {
        "colab": {
          "base_uri": "https://localhost:8080/",
          "height": 269
        },
        "id": "mpW773PX5vnD",
        "outputId": "a5e2f22e-01f2-4923-d6a1-b6a2a216feb7"
      },
      "execution_count": 17,
      "outputs": [
        {
          "output_type": "display_data",
          "data": {
            "text/plain": [
              "<Figure size 432x288 with 2 Axes>"
            ],
            "image/png": "[encoded data removed]"
          },
          "metadata": {
            "needs_background": "light"
          }
        }
      ]
    },
    {
      "cell_type": "code",
      "source": [
        "# lets see  some more images at a time\n",
        "\n",
        "plt.figure(figsize = (10,10))\n",
        "for i in range(50):\n",
        "  plt.subplot(5,10,i+1)\n",
        "  plt.xticks([])\n",
        "  plt.yticks([])\n",
        "  plt.grid(True)\n",
        "  plt.imshow(train_image[i], cmap = plt.cm.binary)\n",
        "  plt.xlabel(class_names[train_labels[i]])\n",
        "  plt.show()"
      ],
      "metadata": {
        "colab": {
          "base_uri": "https://localhost:8080/",
          "height": 283
        },
        "id": "gyYf2o178H6a",
        "outputId": "7ba7d917-d787-4c83-9e35-0a1ecea00807"
      },
      "execution_count": 18,
      "outputs": [
        {
          "output_type": "error",
          "ename": "TypeError",
          "evalue": "ignored",
          "traceback": [
            "\u001b[0;31m---------------------------------------------------------------------------\u001b[0m",
            "\u001b[0;31mTypeError\u001b[0m                                 Traceback (most recent call last)",
            "\u001b[0;32m<ipython-input-18-4aee0cbca7fa>\u001b[0m in \u001b[0;36m<module>\u001b[0;34m()\u001b[0m\n\u001b[1;32m      8\u001b[0m   \u001b[0mplt\u001b[0m\u001b[0;34m.\u001b[0m\u001b[0mgrid\u001b[0m\u001b[0;34m(\u001b[0m\u001b[0;32mTrue\u001b[0m\u001b[0;34m)\u001b[0m\u001b[0;34m\u001b[0m\u001b[0;34m\u001b[0m\u001b[0m\n\u001b[1;32m      9\u001b[0m   \u001b[0mplt\u001b[0m\u001b[0;34m.\u001b[0m\u001b[0mimshow\u001b[0m\u001b[0;34m(\u001b[0m\u001b[0mtrain_image\u001b[0m\u001b[0;34m[\u001b[0m\u001b[0mi\u001b[0m\u001b[0;34m]\u001b[0m\u001b[0;34m,\u001b[0m \u001b[0mcmap\u001b[0m \u001b[0;34m=\u001b[0m \u001b[0mplt\u001b[0m\u001b[0;34m.\u001b[0m\u001b[0mcm\u001b[0m\u001b[0;34m.\u001b[0m\u001b[0mbinary\u001b[0m\u001b[0;34m)\u001b[0m\u001b[0;34m\u001b[0m\u001b[0;34m\u001b[0m\u001b[0m\n\u001b[0;32m---> 10\u001b[0;31m   \u001b[0mplt\u001b[0m\u001b[0;34m.\u001b[0m\u001b[0mxlabel\u001b[0m\u001b[0;34m(\u001b[0m\u001b[0mclass_names\u001b[0m\u001b[0;34m[\u001b[0m\u001b[0mtrain_labels\u001b[0m\u001b[0;34m[\u001b[0m\u001b[0mi\u001b[0m\u001b[0;34m]\u001b[0m\u001b[0;34m]\u001b[0m\u001b[0;34m)\u001b[0m\u001b[0;34m\u001b[0m\u001b[0;34m\u001b[0m\u001b[0m\n\u001b[0m\u001b[1;32m     11\u001b[0m   \u001b[0mplt\u001b[0m\u001b[0;34m.\u001b[0m\u001b[0mshow\u001b[0m\u001b[0;34m(\u001b[0m\u001b[0;34m)\u001b[0m\u001b[0;34m\u001b[0m\u001b[0;34m\u001b[0m\u001b[0m\n",
            "\u001b[0;31mTypeError\u001b[0m: only integer scalar arrays can be converted to a scalar index"
          ]
        },
        {
          "output_type": "display_data",
          "data": {
            "text/plain": [
              "<Figure size 720x720 with 1 Axes>"
            ],
            "image/png": "[encoded data removed]"
          },
          "metadata": {}
        }
      ]
    },
    {
      "cell_type": "code",
      "source": [
        "#building DNN model by using Multilayer perceptron"
      ],
      "metadata": {
        "id": "xTFOPHvG9dFb"
      },
      "execution_count": null,
      "outputs": []
    },
    {
      "cell_type": "code",
      "source": [
        "tf.random.set_seed(100)\n",
        "tf.keras.backend.clear_session()"
      ],
      "metadata": {
        "id": "MHjFrItOAuSS"
      },
      "execution_count": 19,
      "outputs": []
    },
    {
      "cell_type": "code",
      "source": [
        "model = None"
      ],
      "metadata": {
        "id": "HpVG7-uzA7OX"
      },
      "execution_count": 20,
      "outputs": []
    },
    {
      "cell_type": "code",
      "source": [
        "model = keras.Sequential([keras.layers.Flatten(input_shape= (32,32,3)), \n",
        "                          keras.layers.Dense(128, activation='relu'), \n",
        "                          keras.layers.Dense(10)])"
      ],
      "metadata": {
        "id": "OSsdf_Y4A9cn"
      },
      "execution_count": 21,
      "outputs": []
    },
    {
      "cell_type": "code",
      "source": [
        "model.summary()"
      ],
      "metadata": {
        "colab": {
          "base_uri": "https://localhost:8080/"
        },
        "id": "X6FB7KpVBM7m",
        "outputId": "e15c1f70-5b31-46ae-9172-0b26ba7cd71b"
      },
      "execution_count": 22,
      "outputs": [
        {
          "output_type": "stream",
          "name": "stdout",
          "text": [
            "Model: \"sequential\"\n",
            "_________________________________________________________________\n",
            " Layer (type)                Output Shape              Param #   \n",
            "=================================================================\n",
            " flatten (Flatten)           (None, 3072)              0         \n",
            "                                                                 \n",
            " dense (Dense)               (None, 128)               393344    \n",
            "                                                                 \n",
            " dense_1 (Dense)             (None, 10)                1290      \n",
            "                                                                 \n",
            "=================================================================\n",
            "Total params: 394,634\n",
            "Trainable params: 394,634\n",
            "Non-trainable params: 0\n",
            "_________________________________________________________________\n"
          ]
        }
      ]
    },
    {
      "cell_type": "code",
      "source": [
        "model.compile(optimizer='adam',loss = tf.keras.losses.SparseCategoricalCrossentropy(from_logits=True), metrics=['accuracy'])"
      ],
      "metadata": {
        "id": "llDj9iXIBVP4"
      },
      "execution_count": 23,
      "outputs": []
    },
    {
      "cell_type": "code",
      "source": [
        "model.fit(train_image,train_labels, epochs= 15 )"
      ],
      "metadata": {
        "colab": {
          "base_uri": "https://localhost:8080/"
        },
        "id": "SVNje1IuB-7O",
        "outputId": "ab405ae0-5b5c-4ea8-dfa8-988db1e1096d"
      },
      "execution_count": 24,
      "outputs": [
        {
          "output_type": "stream",
          "name": "stdout",
          "text": [
            "Epoch 1/15\n",
            "1563/1563 [==============================] - 7s 4ms/step - loss: 2.0500 - accuracy: 0.2467\n",
            "Epoch 2/15\n",
            "1563/1563 [==============================] - 7s 4ms/step - loss: 1.9256 - accuracy: 0.2882\n",
            "Epoch 3/15\n",
            "1563/1563 [==============================] - 7s 4ms/step - loss: 1.8952 - accuracy: 0.2981\n",
            "Epoch 4/15\n",
            "1563/1563 [==============================] - 7s 5ms/step - loss: 1.8754 - accuracy: 0.3061\n",
            "Epoch 5/15\n",
            "1563/1563 [==============================] - 9s 5ms/step - loss: 1.8617 - accuracy: 0.3105\n",
            "Epoch 6/15\n",
            "1563/1563 [==============================] - 7s 5ms/step - loss: 1.8536 - accuracy: 0.3143\n",
            "Epoch 7/15\n",
            "1563/1563 [==============================] - 8s 5ms/step - loss: 1.8442 - accuracy: 0.3228\n",
            "Epoch 8/15\n",
            "1563/1563 [==============================] - 8s 5ms/step - loss: 1.8418 - accuracy: 0.3219\n",
            "Epoch 9/15\n",
            "1563/1563 [==============================] - 7s 5ms/step - loss: 1.8394 - accuracy: 0.3240\n",
            "Epoch 10/15\n",
            "1563/1563 [==============================] - 7s 5ms/step - loss: 1.8339 - accuracy: 0.3250\n",
            "Epoch 11/15\n",
            "1563/1563 [==============================] - 8s 5ms/step - loss: 1.8337 - accuracy: 0.3249\n",
            "Epoch 12/15\n",
            "1563/1563 [==============================] - 10s 6ms/step - loss: 1.8307 - accuracy: 0.3270\n",
            "Epoch 13/15\n",
            "1563/1563 [==============================] - 9s 6ms/step - loss: 1.8303 - accuracy: 0.3264\n",
            "Epoch 14/15\n",
            "1563/1563 [==============================] - 9s 6ms/step - loss: 1.8287 - accuracy: 0.3251\n",
            "Epoch 15/15\n",
            "1563/1563 [==============================] - 10s 6ms/step - loss: 1.8228 - accuracy: 0.3308\n"
          ]
        },
        {
          "output_type": "execute_result",
          "data": {
            "text/plain": [
              "<keras.callbacks.History at 0x7f85e7ea7050>"
            ]
          },
          "metadata": {},
          "execution_count": 24
        }
      ]
    },
    {
      "cell_type": "code",
      "source": [
        "model.fit(train_image,train_labels, epochs= 25 )"
      ],
      "metadata": {
        "colab": {
          "base_uri": "https://localhost:8080/"
        },
        "id": "WH_T3eehCyNh",
        "outputId": "d20e20a2-83e5-4358-a2b9-e3467b6afbec"
      },
      "execution_count": 25,
      "outputs": [
        {
          "output_type": "stream",
          "name": "stdout",
          "text": [
            "Epoch 1/25\n",
            "1563/1563 [==============================] - 9s 6ms/step - loss: 1.8227 - accuracy: 0.3297\n",
            "Epoch 2/25\n",
            "1563/1563 [==============================] - 8s 5ms/step - loss: 1.8222 - accuracy: 0.3307\n",
            "Epoch 3/25\n",
            "1563/1563 [==============================] - 8s 5ms/step - loss: 1.8249 - accuracy: 0.3287\n",
            "Epoch 4/25\n",
            "1563/1563 [==============================] - 9s 6ms/step - loss: 1.8232 - accuracy: 0.3290\n",
            "Epoch 5/25\n",
            "1563/1563 [==============================] - 8s 5ms/step - loss: 1.8204 - accuracy: 0.3315\n",
            "Epoch 6/25\n",
            "1563/1563 [==============================] - 9s 6ms/step - loss: 1.8200 - accuracy: 0.3307\n",
            "Epoch 7/25\n",
            "1563/1563 [==============================] - 8s 5ms/step - loss: 1.8148 - accuracy: 0.3330\n",
            "Epoch 8/25\n",
            "1563/1563 [==============================] - 8s 5ms/step - loss: 1.8183 - accuracy: 0.3312\n",
            "Epoch 9/25\n",
            "1563/1563 [==============================] - 9s 6ms/step - loss: 1.8170 - accuracy: 0.3343\n",
            "Epoch 10/25\n",
            "1563/1563 [==============================] - 8s 5ms/step - loss: 1.8138 - accuracy: 0.3335\n",
            "Epoch 11/25\n",
            "1563/1563 [==============================] - 9s 6ms/step - loss: 1.8149 - accuracy: 0.3323\n",
            "Epoch 12/25\n",
            "1563/1563 [==============================] - 9s 6ms/step - loss: 1.8146 - accuracy: 0.3333\n",
            "Epoch 13/25\n",
            "1563/1563 [==============================] - 9s 6ms/step - loss: 1.8141 - accuracy: 0.3322\n",
            "Epoch 14/25\n",
            "1563/1563 [==============================] - 9s 6ms/step - loss: 1.8130 - accuracy: 0.3324\n",
            "Epoch 15/25\n",
            "1563/1563 [==============================] - 8s 5ms/step - loss: 1.8095 - accuracy: 0.3357\n",
            "Epoch 16/25\n",
            "1563/1563 [==============================] - 8s 5ms/step - loss: 1.8121 - accuracy: 0.3334\n",
            "Epoch 17/25\n",
            "1563/1563 [==============================] - 8s 5ms/step - loss: 1.8115 - accuracy: 0.3346\n",
            "Epoch 18/25\n",
            "1563/1563 [==============================] - 8s 5ms/step - loss: 1.8107 - accuracy: 0.3325\n",
            "Epoch 19/25\n",
            "1563/1563 [==============================] - 8s 5ms/step - loss: 1.8080 - accuracy: 0.3368\n",
            "Epoch 20/25\n",
            "1563/1563 [==============================] - 8s 5ms/step - loss: 1.8077 - accuracy: 0.3348\n",
            "Epoch 21/25\n",
            "1563/1563 [==============================] - 8s 5ms/step - loss: 1.8098 - accuracy: 0.3356\n",
            "Epoch 22/25\n",
            "1563/1563 [==============================] - 8s 5ms/step - loss: 1.8089 - accuracy: 0.3361\n",
            "Epoch 23/25\n",
            "1563/1563 [==============================] - 8s 5ms/step - loss: 1.8097 - accuracy: 0.3358\n",
            "Epoch 24/25\n",
            "1563/1563 [==============================] - 8s 5ms/step - loss: 1.8064 - accuracy: 0.3380\n",
            "Epoch 25/25\n",
            "1563/1563 [==============================] - 9s 6ms/step - loss: 1.8086 - accuracy: 0.3356\n"
          ]
        },
        {
          "output_type": "execute_result",
          "data": {
            "text/plain": [
              "<keras.callbacks.History at 0x7f85e6dfb610>"
            ]
          },
          "metadata": {},
          "execution_count": 25
        }
      ]
    },
    {
      "cell_type": "code",
      "source": [
        "#  cifar10 classification data set\n",
        "\n",
        "(train_x, train_y), (test_x,test_y) = tf.keras.datasets.cifar10.load_data()"
      ],
      "metadata": {
        "id": "VrTkueX2IBT_"
      },
      "execution_count": 26,
      "outputs": []
    },
    {
      "cell_type": "code",
      "source": [
        "from tensorflow.python.eager.context import num_gpus\n",
        "train_y = tf.keras.utils.to_categorical(train_y, num_classes= 10)\n",
        "test_y  = tf.keras.utils.to_categorical(test_y , num_classes= 10)"
      ],
      "metadata": {
        "id": "C8dDnvGwJGMs"
      },
      "execution_count": 27,
      "outputs": []
    },
    {
      "cell_type": "code",
      "source": [
        "#building DNN multilayer perceptron\n",
        "\n",
        "model2 = tf.keras.models.Sequential()\n",
        "\n",
        "model2.add(tf.keras.layers.Reshape((3072,),input_shape = (32,32,3)))"
      ],
      "metadata": {
        "id": "UL0Svjv4Jfmc"
      },
      "execution_count": 28,
      "outputs": []
    },
    {
      "cell_type": "code",
      "source": [
        "model2.add(tf.keras.layers.BatchNormalization())"
      ],
      "metadata": {
        "id": "SIIBUKXSKDY0"
      },
      "execution_count": 28,
      "outputs": []
    },
    {
      "cell_type": "code",
      "source": [
        "model2.add(tf.keras.layers.Dense(20,activation='relu'))\n",
        "model2.add(tf.keras.layers.Dense(20,activation='relu'))"
      ],
      "metadata": {
        "id": "2wKoUtZPvzUk"
      },
      "execution_count": 29,
      "outputs": []
    },
    {
      "cell_type": "code",
      "source": [
        "#output\n",
        "\n",
        "model2.add(tf.keras.layers.Dense(10, activation='relu'))"
      ],
      "metadata": {
        "id": "2tP6fw93v514"
      },
      "execution_count": 30,
      "outputs": []
    },
    {
      "cell_type": "code",
      "source": [
        "#compile\n",
        "\n",
        "\n",
        "model2.compile(optimizer = 'sgd' , loss = 'categorical_crossentropy', metrics= ['accuracy'])"
      ],
      "metadata": {
        "id": "jKOfTMf-v-me"
      },
      "execution_count": 31,
      "outputs": []
    },
    {
      "cell_type": "code",
      "source": [
        "model.summary()"
      ],
      "metadata": {
        "colab": {
          "base_uri": "https://localhost:8080/"
        },
        "id": "e44seruYwLlk",
        "outputId": "37fe1db5-44e6-4b7b-98c5-a88bd231eb87"
      },
      "execution_count": 32,
      "outputs": [
        {
          "output_type": "stream",
          "name": "stdout",
          "text": [
            "Model: \"sequential\"\n",
            "_________________________________________________________________\n",
            " Layer (type)                Output Shape              Param #   \n",
            "=================================================================\n",
            " flatten (Flatten)           (None, 3072)              0         \n",
            "                                                                 \n",
            " dense (Dense)               (None, 128)               393344    \n",
            "                                                                 \n",
            " dense_1 (Dense)             (None, 10)                1290      \n",
            "                                                                 \n",
            "=================================================================\n",
            "Total params: 394,634\n",
            "Trainable params: 394,634\n",
            "Non-trainable params: 0\n",
            "_________________________________________________________________\n"
          ]
        }
      ]
    },
    {
      "cell_type": "code",
      "source": [
        "model2.fit(train_x, train_y, batch_size = 30 , epochs= 20 , validation_data = (test_x, test_y))"
      ],
      "metadata": {
        "colab": {
          "base_uri": "https://localhost:8080/"
        },
        "id": "tv25GN5TwRwb",
        "outputId": "3e22f64d-cd35-45fc-c3ff-955a452d48b4"
      },
      "execution_count": 33,
      "outputs": [
        {
          "output_type": "stream",
          "name": "stdout",
          "text": [
            "Epoch 1/20\n",
            "1667/1667 [==============================] - 7s 4ms/step - loss: 8.8957 - accuracy: 0.1310 - val_loss: 8.8583 - val_accuracy: 0.1667\n",
            "Epoch 2/20\n",
            "1667/1667 [==============================] - 7s 4ms/step - loss: 8.8525 - accuracy: 0.1438 - val_loss: 8.8415 - val_accuracy: 0.1313\n",
            "Epoch 3/20\n",
            "1667/1667 [==============================] - 6s 4ms/step - loss: 8.8742 - accuracy: 0.1521 - val_loss: 8.8008 - val_accuracy: 0.1670\n",
            "Epoch 4/20\n",
            "1667/1667 [==============================] - 6s 4ms/step - loss: 8.8850 - accuracy: 0.1094 - val_loss: 8.8644 - val_accuracy: 0.1000\n",
            "Epoch 5/20\n",
            "1667/1667 [==============================] - 6s 3ms/step - loss: 8.8633 - accuracy: 0.1145 - val_loss: 8.8627 - val_accuracy: 0.1239\n",
            "Epoch 6/20\n",
            "1667/1667 [==============================] - 6s 3ms/step - loss: 8.8615 - accuracy: 0.1333 - val_loss: 8.8608 - val_accuracy: 0.1458\n",
            "Epoch 7/20\n",
            "1667/1667 [==============================] - 6s 3ms/step - loss: 8.8601 - accuracy: 0.1372 - val_loss: 8.8597 - val_accuracy: 0.1276\n",
            "Epoch 8/20\n",
            "1667/1667 [==============================] - 5s 3ms/step - loss: 8.8588 - accuracy: 0.1375 - val_loss: 8.8582 - val_accuracy: 0.1323\n",
            "Epoch 9/20\n",
            "1667/1667 [==============================] - 6s 3ms/step - loss: 8.8567 - accuracy: 0.1432 - val_loss: 8.8555 - val_accuracy: 0.1429\n",
            "Epoch 10/20\n",
            "1667/1667 [==============================] - 6s 3ms/step - loss: 8.8530 - accuracy: 0.1499 - val_loss: 8.8505 - val_accuracy: 0.1455\n",
            "Epoch 11/20\n",
            "1667/1667 [==============================] - 6s 3ms/step - loss: 8.8445 - accuracy: 0.1499 - val_loss: 8.8351 - val_accuracy: 0.1515\n",
            "Epoch 12/20\n",
            "1667/1667 [==============================] - 6s 3ms/step - loss: 7.5298 - accuracy: 0.1516 - val_loss: 7.4067 - val_accuracy: 0.1710\n",
            "Epoch 13/20\n",
            "1667/1667 [==============================] - 6s 3ms/step - loss: 7.4193 - accuracy: 0.1622 - val_loss: 7.3912 - val_accuracy: 0.1743\n",
            "Epoch 14/20\n",
            "1667/1667 [==============================] - 6s 3ms/step - loss: 7.3997 - accuracy: 0.1843 - val_loss: 7.3811 - val_accuracy: 0.1838\n",
            "Epoch 15/20\n",
            "1667/1667 [==============================] - 6s 3ms/step - loss: 7.3921 - accuracy: 0.1930 - val_loss: 7.3788 - val_accuracy: 0.1942\n",
            "Epoch 16/20\n",
            "1667/1667 [==============================] - 5s 3ms/step - loss: 7.3987 - accuracy: 0.1919 - val_loss: 7.3843 - val_accuracy: 0.1957\n",
            "Epoch 17/20\n",
            "1667/1667 [==============================] - 6s 3ms/step - loss: 8.7080 - accuracy: 0.1140 - val_loss: 8.8818 - val_accuracy: 0.1000\n",
            "Epoch 18/20\n",
            "1667/1667 [==============================] - 5s 3ms/step - loss: 8.8723 - accuracy: 0.1000 - val_loss: 8.8668 - val_accuracy: 0.1000\n",
            "Epoch 19/20\n",
            "1667/1667 [==============================] - 5s 3ms/step - loss: 8.8651 - accuracy: 0.1000 - val_loss: 8.8641 - val_accuracy: 0.1000\n",
            "Epoch 20/20\n",
            "1667/1667 [==============================] - 5s 3ms/step - loss: 8.8639 - accuracy: 0.1000 - val_loss: 8.8637 - val_accuracy: 0.1000\n"
          ]
        },
        {
          "output_type": "execute_result",
          "data": {
            "text/plain": [
              "<keras.callbacks.History at 0x7f85e6e09e10>"
            ]
          },
          "metadata": {},
          "execution_count": 33
        }
      ]
    },
    {
      "cell_type": "code",
      "source": [
        ""
      ],
      "metadata": {
        "id": "R423ajjIwb8Y"
      },
      "execution_count": null,
      "outputs": []
    }
  ]
}